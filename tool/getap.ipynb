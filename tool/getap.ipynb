{
 "cells": [
  {
   "cell_type": "code",
   "execution_count": 2,
   "metadata": {},
   "outputs": [
    {
     "name": "stdout",
     "output_type": "stream",
     "text": [
      "--2019-12-29 23:03:35--  http://www.3322.org/dyndns/getip\n",
      "正在解析主机 www.3322.org (www.3322.org)... 118.184.176.22\n",
      "正在连接 www.3322.org (www.3322.org)|118.184.176.22|:80... 已连接。\n",
      "已发出 HTTP 请求，正在等待回应... 200 OK\n",
      "长度： 未指定 [application/octet-stream]\n",
      "正在保存至: “getip”\n",
      "\n",
      "getip                   [ <=>                ]      16  --.-KB/s    用时 0s      \n",
      "\n",
      "2019-12-29 23:03:36 (624 KB/s) - “getip” 已保存 [16]\n",
      "\n",
      "\n"
     ]
    }
   ],
   "source": [
    "!echo $(wget www.3322.org/dyndns/getip)"
   ]
  },
  {
   "cell_type": "code",
   "execution_count": 3,
   "metadata": {},
   "outputs": [],
   "source": [
    "import  requests"
   ]
  },
  {
   "cell_type": "code",
   "execution_count": 4,
   "metadata": {},
   "outputs": [],
   "source": [
    "r = requests.get(\"http://www.3322.org/dyndns/getip?\")"
   ]
  },
  {
   "cell_type": "code",
   "execution_count": 5,
   "metadata": {},
   "outputs": [
    {
     "data": {
      "text/plain": [
       "<Response [200]>"
      ]
     },
     "execution_count": 5,
     "metadata": {},
     "output_type": "execute_result"
    }
   ],
   "source": [
    "r"
   ]
  },
  {
   "cell_type": "code",
   "execution_count": 6,
   "metadata": {},
   "outputs": [
    {
     "data": {
      "text/plain": [
       "b'123.116.246.228\\n'"
      ]
     },
     "execution_count": 6,
     "metadata": {},
     "output_type": "execute_result"
    }
   ],
   "source": [
    "r.content"
   ]
  },
  {
   "cell_type": "code",
   "execution_count": 7,
   "metadata": {},
   "outputs": [
    {
     "data": {
      "text/plain": [
       "['123', '116', '246', '228']"
      ]
     },
     "execution_count": 7,
     "metadata": {},
     "output_type": "execute_result"
    }
   ],
   "source": [
    "r.text.replace(\"\\n\", \"\").split('.')"
   ]
  },
  {
   "cell_type": "code",
   "execution_count": 1,
   "metadata": {},
   "outputs": [
    {
     "name": "stdout",
     "output_type": "stream",
     "text": [
      "PING 61.149.14.75 (61.149.14.75) 56(84) bytes of data.\n",
      "64 bytes from 61.149.14.75: icmp_seq=1 ttl=59 time=4.04 ms\n",
      "64 bytes from 61.149.14.75: icmp_seq=2 ttl=59 time=3.68 ms\n",
      "64 bytes from 61.149.14.75: icmp_seq=3 ttl=59 time=3.37 ms\n",
      "64 bytes from 61.149.14.75: icmp_seq=4 ttl=59 time=3.84 ms\n",
      "64 bytes from 61.149.14.75: icmp_seq=5 ttl=59 time=3.49 ms\n",
      "64 bytes from 61.149.14.75: icmp_seq=6 ttl=59 time=3.64 ms\n",
      "64 bytes from 61.149.14.75: icmp_seq=7 ttl=59 time=3.35 ms\n",
      "64 bytes from 61.149.14.75: icmp_seq=8 ttl=59 time=3.72 ms\n",
      "64 bytes from 61.149.14.75: icmp_seq=9 ttl=59 time=3.35 ms\n",
      "64 bytes from 61.149.14.75: icmp_seq=10 ttl=59 time=3.63 ms\n",
      "64 bytes from 61.149.14.75: icmp_seq=11 ttl=59 time=3.69 ms\n",
      "^C\n",
      "\n",
      "--- 61.149.14.75 ping statistics ---\n",
      "11 packets transmitted, 11 received, 0% packet loss, time 10015ms\n",
      "rtt min/avg/max/mdev = 3.352/3.622/4.040/0.213 ms\n"
     ]
    }
   ],
   "source": [
    "!ping 61.149.14.75"
   ]
  },
  {
   "cell_type": "code",
   "execution_count": null,
   "metadata": {},
   "outputs": [],
   "source": []
  }
 ],
 "metadata": {
  "kernelspec": {
   "display_name": "Python 3",
   "language": "python",
   "name": "python3"
  },
  "language_info": {
   "codemirror_mode": {
    "name": "ipython",
    "version": 3
   },
   "file_extension": ".py",
   "mimetype": "text/x-python",
   "name": "python",
   "nbconvert_exporter": "python",
   "pygments_lexer": "ipython3",
   "version": "3.6.9"
  }
 },
 "nbformat": 4,
 "nbformat_minor": 4
}
