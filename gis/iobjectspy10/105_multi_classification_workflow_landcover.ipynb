{
 "cells": [
  {
   "cell_type": "markdown",
   "metadata": {},
   "source": [
    "# 地物分类案例"
   ]
  },
  {
   "cell_type": "code",
   "execution_count": 1,
   "metadata": {},
   "outputs": [
    {
     "name": "stderr",
     "output_type": "stream",
     "text": [
      "Using TensorFlow backend.\n"
     ]
    }
   ],
   "source": [
    "# !/usr/bin/env python3\n",
    "# coding=utf-8\n",
    "import os\n",
    "import time\n",
    "\n",
    "from iobjectspy.ml.vision import Trainer, Inference"
   ]
  },
  {
   "cell_type": "markdown",
   "metadata": {},
   "source": [
    "## 设置输入数据路径"
   ]
  },
  {
   "cell_type": "code",
   "execution_count": 2,
   "metadata": {},
   "outputs": [],
   "source": [
    "curr_dir = ''\n",
    "data_dir = os.path.join(curr_dir, '..','..','example_data')\n",
    "dom_path = os.path.join(data_dir, 'inference', 'landcover_infer.tif')"
   ]
  },
  {
   "cell_type": "markdown",
   "metadata": {},
   "source": [
    "## 设置输出数据路径"
   ]
  },
  {
   "cell_type": "code",
   "execution_count": 3,
   "metadata": {},
   "outputs": [],
   "source": [
    "out_dir = os.path.join(curr_dir, '..','..','out')\n",
    "if not os.path.exists(out_dir):\n",
    "    os.makedirs(out_dir)"
   ]
  },
  {
   "cell_type": "code",
   "execution_count": 4,
   "metadata": {},
   "outputs": [],
   "source": [
    "def example_create_train_data():\n",
    "    pass"
   ]
  },
  {
   "cell_type": "markdown",
   "metadata": {},
   "source": [
    "## 地物分类模型训练"
   ]
  },
  {
   "cell_type": "code",
   "execution_count": 5,
   "metadata": {},
   "outputs": [
    {
     "name": "stdout",
     "output_type": "stream",
     "text": [
      "train start\n",
      "Train on 83 samples, validate on 27 samples\n",
      "Epoch 1/1\n",
      "83/83 [==============================] - 532s 6s/step - loss: 1.2738 - acc: 0.4414 - iou_score: 0.3486 - val_loss: 0.8991 - val_acc: 0.5552 - val_iou_score: 0.5489\n",
      "\n",
      "Epoch 00001: val_loss improved from inf to 0.89909, saving model to ../../out/experiment_log/2019-09-20/multi_classification/checkpoints/multi_classification-0001-0.8991.hdf5\n",
      "model saved in dir : ../../out/example_multi_cls/example_multi_cls.sdm\n",
      "完成，共耗时624.5755066871643s，结果保存在 ../../out/example_multi_cls\n"
     ]
    }
   ],
   "source": [
    "\"\"\"\n",
    "train the model\n",
    "\"\"\"\n",
    "\n",
    "print('train start')\n",
    "\n",
    "train_data_path = os.path.join(data_dir, 'training', 'multi_cls_train_data', 'train_data')\n",
    "config = os.path.join(curr_dir, '..','..','trainer_config','multi_cls_train_config.sdt')\n",
    "output_model_path = out_dir\n",
    "backbone_weight_path = os.path.join(curr_dir, '..','..','backbone','efficientnet-b3_imagenet_1000_notop.h5')\n",
    "\n",
    "start_time = time.time()\n",
    "\n",
    "Trainer(train_data_path=train_data_path, config=config, epoch=1, batch_size=1, lr=0.001,\n",
    "        output_model_path=output_model_path,\n",
    "        output_model_name='example_multi_cls',\n",
    "        backbone_name='efficientnetb3',\n",
    "        backbone_weight_path=backbone_weight_path,\n",
    "        log_path=os.path.join(out_dir, 'experiment_log')\n",
    "        ).multi_classify_train()\n",
    "\n",
    "end_time = time.time()\n",
    "print('完成，共耗时{}s，结果保存在 {}'.format(\n",
    "    end_time - start_time, os.path.join(output_model_path, 'example_multi_cls')))"
   ]
  },
  {
   "cell_type": "markdown",
   "metadata": {},
   "source": [
    "## 设置模型路径"
   ]
  },
  {
   "cell_type": "code",
   "execution_count": 6,
   "metadata": {},
   "outputs": [],
   "source": [
    "output_model_path = os.path.join(out_dir, 'example_multi_cls', 'example_multi_cls.sdm')"
   ]
  },
  {
   "cell_type": "code",
   "execution_count": 7,
   "metadata": {},
   "outputs": [
    {
     "name": "stdout",
     "output_type": "stream",
     "text": [
      "没有DSM数据，只使用DOM预测\n",
      "[>>>>>>>>>>>>>>>>>>>>>>>>>>>>>>>>>>>>>>>>>>>>>>>>>>>>>>>>>>>>>>>>>>>>>>>>>>>>>>>>>>>>>>>>>>>>>>>>>>>>]100%,16java -cp /home/data/hou/workspaces/iobjectspy/venv/lib/python3.6/site-packages/iobjectspy-10.0.0-py3.6.egg/iobjectspy/_jsuperpy/jars/iobjects-py4j.jar com.supermap.jsuperpy.ApplicationExample 127.0.0.1 58441\n",
      "[iObjectsPy]: Connection gateway-service successful, Python callback port bind 44639\n",
      "\n",
      "The multi classification have done!\n",
      "提取完成，共耗时21.624144077301025s，结果数据保存在 ../../out/out_multicls.udb 数据源下 predict_landcover 数据集中\n"
     ]
    }
   ],
   "source": [
    "out_data = os.path.join(out_dir, 'out_multicls.udb')\n",
    "out_dataset_name = 'predict_landcover'\n",
    "start_time = time.time()\n",
    "Inference(input_data=dom_path,\n",
    "          model_path=output_model_path,\n",
    "          out_data=out_data,\n",
    "          out_dataset_name=out_dataset_name).multi_classify_infer(offset=200, result_type='grid')\n",
    "\n",
    "end_time = time.time()\n",
    "print('提取完成，共耗时{}s，结果数据保存在 {} 数据源下 {} 数据集中'.format(\n",
    "    end_time - start_time, out_data, out_dataset_name))"
   ]
  },
  {
   "cell_type": "code",
   "execution_count": null,
   "metadata": {},
   "outputs": [],
   "source": []
  }
 ],
 "metadata": {
  "kernelspec": {
   "display_name": "Python 3",
   "language": "python",
   "name": "python3"
  },
  "language_info": {
   "codemirror_mode": {
    "name": "ipython",
    "version": 3
   },
   "file_extension": ".py",
   "mimetype": "text/x-python",
   "name": "python",
   "nbconvert_exporter": "python",
   "pygments_lexer": "ipython3",
   "version": "3.6.9"
  }
 },
 "nbformat": 4,
 "nbformat_minor": 4
}
