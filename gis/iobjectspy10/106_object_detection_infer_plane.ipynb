{
 "cells": [
  {
   "cell_type": "markdown",
   "metadata": {},
   "source": [
    "# 飞机目标检测"
   ]
  },
  {
   "cell_type": "code",
   "execution_count": 1,
   "metadata": {
    "scrolled": true
   },
   "outputs": [
    {
     "name": "stderr",
     "output_type": "stream",
     "text": [
      "Using TensorFlow backend.\n"
     ]
    }
   ],
   "source": [
    "#!/usr/bin/env python3\n",
    "# coding=utf-8\n",
    "import os\n",
    "import time\n",
    "\n",
    "from iobjectspy.ml.vision import Inference"
   ]
  },
  {
   "cell_type": "markdown",
   "metadata": {},
   "source": [
    "## 设置输入数据路径"
   ]
  },
  {
   "cell_type": "code",
   "execution_count": 2,
   "metadata": {},
   "outputs": [],
   "source": [
    "curr_dir = ''\n",
    "data_dir = os.path.join(curr_dir, '..','..','example_data')\n",
    "input_data = os.path.join(data_dir, 'inference/plane_infer.tif')"
   ]
  },
  {
   "cell_type": "markdown",
   "metadata": {},
   "source": [
    "## 设置输出数据路径"
   ]
  },
  {
   "cell_type": "code",
   "execution_count": 3,
   "metadata": {},
   "outputs": [],
   "source": [
    "out_dir = os.path.join(curr_dir, '..','..','out')\n",
    "out_data = os.path.join(curr_dir, '..','..','out','plane.udbx')\n",
    "if not os.path.exists(out_dir):\n",
    "    os.makedirs(out_dir)"
   ]
  },
  {
   "cell_type": "markdown",
   "metadata": {},
   "source": [
    "## 设置模型路径"
   ]
  },
  {
   "cell_type": "code",
   "execution_count": 4,
   "metadata": {},
   "outputs": [],
   "source": [
    "model_path = os.path.join(curr_dir, '..','..','model','obj_det_plane','obj_det_plane.sdm')"
   ]
  },
  {
   "cell_type": "markdown",
   "metadata": {},
   "source": [
    "## 目标检测类型"
   ]
  },
  {
   "cell_type": "code",
   "execution_count": 5,
   "metadata": {},
   "outputs": [],
   "source": [
    "category_name = \"plane\""
   ]
  },
  {
   "cell_type": "markdown",
   "metadata": {},
   "source": [
    "## 基于影像文件进行飞机目标检测\n",
    "影像文件格式支持 ‘tif’、‘img’(Erdas Image)、'jpg'、'png' 等,目标检测结果为GeoJSON文件，包含目标位置、类型等信息\n",
    "目标检测类别支持 'plane', 'ship', 'tennis-court', 'vehicle'"
   ]
  },
  {
   "cell_type": "code",
   "execution_count": 6,
   "metadata": {},
   "outputs": [
    {
     "name": "stdout",
     "output_type": "stream",
     "text": [
      "java -cp /home/data/hou/workspaces/iobjectspy/venv/lib/python3.6/site-packages/iobjectspy-10.0.0-py3.6.egg/iobjectspy/_jsuperpy/jars/iobjects-py4j.jar com.supermap.jsuperpy.ApplicationExample 127.0.0.1 51759\n",
      "[iObjectsPy]: Connection gateway-service successful, Python callback port bind 40351\n",
      "\n",
      "耗时8.400574445724487s\n",
      "结果为out_plane_R\n"
     ]
    }
   ],
   "source": [
    "\"\"\"\n",
    "影像文件格式支持 ‘tif’、‘img’(Erdas Image)、'jpg'、'png' 等\n",
    "目标检测结果为GeoJSON文件，包含目标位置、类型等信息\n",
    "\"\"\"\n",
    "start_time = time.time()\n",
    "result = Inference(input_data, model_path, out_data=out_data, out_dataset_name='out_plane').object_detect_infer(\n",
    "    category_name, nms_thresh=0.3, score_thresh=0.3)\n",
    "end_time = time.time()\n",
    "print('耗时{}s'.format(end_time - start_time))\n",
    "print('结果为{}'.format(result))"
   ]
  },
  {
   "cell_type": "code",
   "execution_count": null,
   "metadata": {},
   "outputs": [],
   "source": []
  }
 ],
 "metadata": {
  "kernelspec": {
   "display_name": "Python 3",
   "language": "python",
   "name": "python3"
  },
  "language_info": {
   "codemirror_mode": {
    "name": "ipython",
    "version": 3
   },
   "file_extension": ".py",
   "mimetype": "text/x-python",
   "name": "python",
   "nbconvert_exporter": "python",
   "pygments_lexer": "ipython3",
   "version": "3.6.9"
  }
 },
 "nbformat": 4,
 "nbformat_minor": 4
}
