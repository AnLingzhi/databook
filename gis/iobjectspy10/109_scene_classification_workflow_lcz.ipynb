{
 "cells": [
  {
   "cell_type": "markdown",
   "metadata": {},
   "source": [
    "# 场景分类案例"
   ]
  },
  {
   "cell_type": "code",
   "execution_count": 1,
   "metadata": {},
   "outputs": [
    {
     "name": "stderr",
     "output_type": "stream",
     "text": [
      "Using TensorFlow backend.\n"
     ]
    }
   ],
   "source": [
    "# !/usr/bin/env python3\n",
    "# coding=utf-8\n",
    "import os\n",
    "import time\n",
    "\n",
    "import dotmap\n",
    "import yaml\n",
    "\n",
    "from iobjectspy import open_datasource\n",
    "from iobjectspy.ml.vision import Inference, DataPreparation\n",
    "from iobjectspy.ml.vision import Trainer"
   ]
  },
  {
   "cell_type": "markdown",
   "metadata": {},
   "source": [
    "## 设置输入数据路径"
   ]
  },
  {
   "cell_type": "code",
   "execution_count": 2,
   "metadata": {},
   "outputs": [],
   "source": [
    "curr_dir = ''\n",
    "data_dir = os.path.join(curr_dir, '..','..','example_data')\n",
    "dom_path = os.path.join(data_dir, 'inference', 'landcover_infer.tif')"
   ]
  },
  {
   "cell_type": "markdown",
   "metadata": {},
   "source": [
    "## 设置输出数据路径"
   ]
  },
  {
   "cell_type": "code",
   "execution_count": 3,
   "metadata": {},
   "outputs": [],
   "source": [
    "out_dir = os.path.join(curr_dir, '..','..','out')\n",
    "if not os.path.exists(out_dir):\n",
    "    os.makedirs(out_dir)"
   ]
  },
  {
   "cell_type": "markdown",
   "metadata": {},
   "source": [
    "## 制作SCENE数据,用于模型训练"
   ]
  },
  {
   "cell_type": "code",
   "execution_count": 4,
   "metadata": {},
   "outputs": [
    {
     "name": "stdout",
     "output_type": "stream",
     "text": [
      "java -cp /home/data/hou/workspaces/iobjectspy/venv/lib/python3.6/site-packages/iobjectspy-10.0.0-py3.6.egg/iobjectspy/_jsuperpy/jars/iobjects-py4j.jar com.supermap.jsuperpy.ApplicationExample 127.0.0.1 59861\n",
      "[iObjectsPy]: Connection gateway-service successful, Python callback port bind 39201\n",
      "\n",
      "完成，共耗时57.18492007255554s，训练数据保存在 ../../out/SCENE\n"
     ]
    }
   ],
   "source": [
    "input_data = os.path.join(data_dir, 'training','scene_cls_train_data','raw','sceneclassification.tif')\n",
    "ds = open_datasource(\n",
    "    os.path.join(data_dir, 'training','scene_cls_train_data','raw','sceneclassification.udbx'))\n",
    "input_label = ds['DLTB']\n",
    "\n",
    "label_class_field = 'DLMC'\n",
    "output_path = os.path.join(curr_dir, '..','..','out')\n",
    "output_name = 'SCENE'\n",
    "start_time = time.time()\n",
    "DataPreparation.create_training_data(input_data=input_data, input_label=input_label,\n",
    "                                     label_class_field=label_class_field, output_path=output_path,\n",
    "                                     output_name=output_name,\n",
    "                                     training_data_format=\"SCENE_C\", tile_format='origin', tile_size_x=128,\n",
    "                                     tile_size_y=128,\n",
    "                                     tile_offset_x=64,\n",
    "                                     tile_offset_y=64, tile_start_index=0, save_nolabel_tiles=False)\n",
    "print('完成，共耗时{}s，训练数据保存在 {}'.format(\n",
    "    time.time() - start_time, os.path.join(output_path, output_name)))"
   ]
  },
  {
   "cell_type": "markdown",
   "metadata": {},
   "source": [
    "## 场景分类模型训练"
   ]
  },
  {
   "cell_type": "code",
   "execution_count": 5,
   "metadata": {},
   "outputs": [
    {
     "name": "stdout",
     "output_type": "stream",
     "text": [
      "train start\n",
      "Train on 126 samples, validate on 41 samples\n",
      "Epoch 1/1\n",
      "126/126 [==============================] - 53s 418ms/step - loss: 9.0669 - acc: 0.3175 - categorical_crossentropy: 9.0669 - val_loss: 9.8281 - val_acc: 0.3902 - val_categorical_crossentropy: 9.8281\n",
      "\n",
      "Epoch 00001: val_loss improved from inf to 9.82811, saving model to ./2019-09-19/scene_classification/checkpoints/scene_classification-0001-9.8281.hdf5\n",
      "model saved in dir : ../../out/example_scene_cls/example_scene_cls.sdm\n",
      "完成，共耗时121.00986170768738s，结果保存在 ../../out/example_scene_cls\n"
     ]
    }
   ],
   "source": [
    "print('train start')\n",
    "train_data_path = os.path.join(data_dir, 'training','scene_cls_train_data','train_data')\n",
    "config = os.path.join(curr_dir, '..','..','trainer_config','scene_cls_train_config.sdt')\n",
    "output_model_path = out_dir\n",
    "output_model_name = 'example_scene_cls'\n",
    "backbone_weight_path = os.path.join(curr_dir, '..','..','backbone','efficientnet-b1_imagenet_1000_notop.h5')\n",
    "\n",
    "start_time = time.time()\n",
    "\n",
    "Trainer(train_data_path=train_data_path, config=config, epoch=1, batch_size=1, lr=0.001,\n",
    "            output_model_path=output_model_path,\n",
    "            output_model_name='example_scene_cls',\n",
    "            backbone_name='efficientnetb1',\n",
    "            backbone_weight_path=backbone_weight_path).scene_classify_train()\n",
    "\n",
    "end_time = time.time()\n",
    "print('完成，共耗时{}s，结果保存在 {}'.format(\n",
    "    end_time - start_time, os.path.join(output_model_path, output_model_name)))"
   ]
  },
  {
   "cell_type": "markdown",
   "metadata": {},
   "source": [
    "## 设置模型路径"
   ]
  },
  {
   "cell_type": "code",
   "execution_count": 6,
   "metadata": {},
   "outputs": [],
   "source": [
    "model_path = os.path.join(out_dir, 'example_scene_cls', 'example_scene_cls.sdm')"
   ]
  },
  {
   "cell_type": "markdown",
   "metadata": {},
   "source": [
    "## 场景分类模型预测"
   ]
  },
  {
   "cell_type": "code",
   "execution_count": 7,
   "metadata": {},
   "outputs": [
    {
     "name": "stderr",
     "output_type": "stream",
     "text": [
      "/home/data/hou/workspaces/iobjectspy/venv/lib/python3.6/site-packages/rasterio/__init__.py:216: NotGeoreferencedWarning: Dataset has no geotransform set. The identity matrix may be returned.\n",
      "  s = DatasetReader(path, driver=driver, sharing=sharing, **kwargs)\n"
     ]
    },
    {
     "name": "stdout",
     "output_type": "stream",
     "text": [
      "[>>>>>>>>>>>>>>>>>>>>>>>>>>>>>>>>>>>>>>>>>>>>>>>>>>>>>>>>>>>>>>>>>>>>>>>>>>>>>>>>>>>>>>>>>>>>>>>>>>>>]100%,81The scene classification have done!\n",
      "提取完成，共耗时9.693045616149902s，结果数据保存在 ../../out/out_scene_cls.udb 数据源下 predict_scene 数据集中\n"
     ]
    }
   ],
   "source": [
    "out_data = os.path.join(out_dir, 'out_scene_cls.udb')\n",
    "out_dataset_name = 'predict_scene'\n",
    "\n",
    "start_time = time.time()\n",
    "Inference(input_data=dom_path,\n",
    "          model_path=model_path,\n",
    "          out_data=out_data,\n",
    "          out_dataset_name=out_dataset_name).scene_classify_infer(result_type='region')\n",
    "\n",
    "end_time = time.time()\n",
    "print('提取完成，共耗时{}s，结果数据保存在 {} 数据源下 {} 数据集中'.format(\n",
    "    end_time - start_time, out_data,out_dataset_name))"
   ]
  },
  {
   "cell_type": "code",
   "execution_count": null,
   "metadata": {},
   "outputs": [],
   "source": []
  }
 ],
 "metadata": {
  "kernelspec": {
   "display_name": "Python 3",
   "language": "python",
   "name": "python3"
  },
  "language_info": {
   "codemirror_mode": {
    "name": "ipython",
    "version": 3
   },
   "file_extension": ".py",
   "mimetype": "text/x-python",
   "name": "python",
   "nbconvert_exporter": "python",
   "pygments_lexer": "ipython3",
   "version": "3.6.9"
  }
 },
 "nbformat": 4,
 "nbformat_minor": 4
}
