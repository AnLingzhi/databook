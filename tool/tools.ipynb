{
 "cells": [
  {
   "cell_type": "code",
   "execution_count": null,
   "metadata": {},
   "outputs": [
    {
     "name": "stdout",
     "output_type": "stream",
     "text": [
      "Cloning into 'databook'...\n",
      "remote: Enumerating objects: 1604, done.\u001b[K\n"
     ]
    }
   ],
   "source": [
    "!git clone https://github.com/databooks/databook"
   ]
  },
  {
   "cell_type": "code",
   "execution_count": 6,
   "metadata": {},
   "outputs": [
    {
     "name": "stdout",
     "output_type": "stream",
     "text": [
      "total 18\n",
      "drwxr-xr-x 4 jovyan users 4096 Mar  8 13:48 .\n",
      "drwxrwxr-x 7 jovyan  1000 4096 Mar  8 13:40 ..\n",
      "drwxrwxr-x 3 jovyan  1000 4096 Mar  8 13:47 databook\n",
      "-rwxr-xr-x 1 jovyan users   47 Mar  8 13:40 getdatabook.sh\n",
      "drwxr-xr-x 2 jovyan users 4096 Mar  8 13:41 .ipynb_checkpoints\n",
      "-rw-r--r-- 1 jovyan users 1484 Mar  8 13:48 tools.ipynb\n"
     ]
    }
   ],
   "source": [
    "!ls -l -a "
   ]
  },
  {
   "cell_type": "code",
   "execution_count": 9,
   "metadata": {},
   "outputs": [
    {
     "name": "stdout",
     "output_type": "stream",
     "text": [
      "total 9\n",
      "drwxr-xr-x  2 jovyan users 4096 Mar  8 22:18 .\n",
      "drwxrwxr-x 11 jovyan  1000 4096 Mar  8 22:18 ..\n",
      "-rw-r--r--  1 jovyan users  304 Mar  8 22:18 pip.conf\n"
     ]
    }
   ],
   "source": [
    "!ls -l ~/.pip -a"
   ]
  },
  {
   "cell_type": "code",
   "execution_count": 7,
   "metadata": {},
   "outputs": [],
   "source": [
    "!mkdir ~/.pip\n",
    "!cp ../pip.conf ~/.pip/"
   ]
  },
  {
   "cell_type": "code",
   "execution_count": null,
   "metadata": {},
   "outputs": [],
   "source": []
  }
 ],
 "metadata": {
  "kernelspec": {
   "display_name": "Python 3",
   "language": "python",
   "name": "python3"
  },
  "language_info": {
   "codemirror_mode": {
    "name": "ipython",
    "version": 3
   },
   "file_extension": ".py",
   "mimetype": "text/x-python",
   "name": "python",
   "nbconvert_exporter": "python",
   "pygments_lexer": "ipython3",
   "version": "3.6.5"
  }
 },
 "nbformat": 4,
 "nbformat_minor": 2
}
