{
 "cells": [
  {
   "cell_type": "code",
   "execution_count": 1,
   "metadata": {},
   "outputs": [],
   "source": [
    "import iobjectspy as smo\n",
    "from iobjectspy import (aggregate_points, Unit)\n",
    "import os\n",
    "import sys"
   ]
  },
  {
   "cell_type": "code",
   "execution_count": 2,
   "metadata": {},
   "outputs": [
    {
     "name": "stdout",
     "output_type": "stream",
     "text": [
      "Output dir:  /home/jovyan/data/smdata/out\n",
      "Existed dir:  /home/jovyan/data/smdata/out\n"
     ]
    }
   ],
   "source": [
    "# 设置示例数据路径\n",
    "example_data_dir = '/home/jovyan/data/smdata/'\n",
    "\n",
    "# 设置结果输出路径\n",
    "out_dir = os.path.join(example_data_dir, 'out')\n",
    "print(\"Output dir: \", out_dir)\n",
    "\n",
    "if not os.path.exists(out_dir):\n",
    "    os.makedirs(out_dir)\n",
    "    print(\"Makedir: \", out_dir)\n",
    "else:\n",
    "    print(\"Existed dir: \", out_dir)"
   ]
  },
  {
   "cell_type": "code",
   "execution_count": 3,
   "metadata": {},
   "outputs": [
    {
     "data": {
      "text/plain": [
       "True"
      ]
     },
     "execution_count": 3,
     "metadata": {},
     "output_type": "execute_result"
    }
   ],
   "source": [
    "os.path.exists(\"/home/jovyan/data/smdata/out\")"
   ]
  },
  {
   "cell_type": "code",
   "execution_count": 4,
   "metadata": {},
   "outputs": [
    {
     "name": "stdout",
     "output_type": "stream",
     "text": [
      "total 0\n"
     ]
    }
   ],
   "source": [
    "!ls -l ~/data/smdata/out"
   ]
  },
  {
   "cell_type": "code",
   "execution_count": 5,
   "metadata": {},
   "outputs": [],
   "source": [
    "def progress_func(step_event):\n",
    "    sys.stdout.write('%s,%s %%\\n' % (step_event.title, step_event.message))\n",
    "\n",
    "\n",
    "def aggregate_points_test():\n",
    "    \"\"\" 对点数据集 Town_P 进行点密度聚类,密度聚类的聚类点数目阈值为4, 聚类半径为3 千米\"\"\"\n",
    "    result = aggregate_points(os.path.join(example_data_dir, 'example_data.udb/Town_P'), 4, 3, Unit.KILOMETER,\n",
    "                              out_data=os.path.join(out_dir, 'out_aggregate_point.udb'), progress=progress_func)\n",
    "\n",
    "    if result is not None:\n",
    "        if isinstance(result, str):\n",
    "            print('点密度聚类成功,结果面数据集为 ' + result)\n",
    "        else:\n",
    "            print('点密度聚类成功,结果面数据集为 ' + result.name)\n",
    "    else:\n",
    "        print('点密度聚类失败')"
   ]
  },
  {
   "cell_type": "code",
   "execution_count": 44,
   "metadata": {},
   "outputs": [
    {
     "ename": "ObjectDisposedError",
     "evalue": "Workspace has been disposed.",
     "output_type": "error",
     "traceback": [
      "\u001b[0;31m---------------------------------------------------------------------------\u001b[0m",
      "\u001b[0;31mObjectDisposedError\u001b[0m                       Traceback (most recent call last)",
      "\u001b[0;32m<ipython-input-44-9df6ce721727>\u001b[0m in \u001b[0;36m<module>\u001b[0;34m\u001b[0m\n\u001b[0;32m----> 1\u001b[0;31m \u001b[0maggregate_points_test\u001b[0m\u001b[0;34m(\u001b[0m\u001b[0;34m)\u001b[0m\u001b[0;34m\u001b[0m\u001b[0;34m\u001b[0m\u001b[0m\n\u001b[0m",
      "\u001b[0;32m<ipython-input-43-725447b8a730>\u001b[0m in \u001b[0;36maggregate_points_test\u001b[0;34m()\u001b[0m\n\u001b[1;32m      6\u001b[0m     \u001b[0;34m\"\"\" 对点数据集 Town_P 进行点密度聚类,密度聚类的聚类点数目阈值为4, 聚类半径为3 千米\"\"\"\u001b[0m\u001b[0;34m\u001b[0m\u001b[0;34m\u001b[0m\u001b[0m\n\u001b[1;32m      7\u001b[0m     result = aggregate_points(os.path.join(example_data_dir, 'example_data.udb/Town_P'), 4, 3, Unit.KILOMETER,\n\u001b[0;32m----> 8\u001b[0;31m                               out_data=os.path.join(out_dir, 'out_aggregate_point.udb'), progress=progress_func)\n\u001b[0m\u001b[1;32m      9\u001b[0m \u001b[0;34m\u001b[0m\u001b[0m\n\u001b[1;32m     10\u001b[0m     \u001b[0;32mif\u001b[0m \u001b[0mresult\u001b[0m \u001b[0;32mis\u001b[0m \u001b[0;32mnot\u001b[0m \u001b[0;32mNone\u001b[0m\u001b[0;34m:\u001b[0m\u001b[0;34m\u001b[0m\u001b[0;34m\u001b[0m\u001b[0m\n",
      "\u001b[0;32m/opt/conda/lib/python3.6/site-packages/iobjectspy/_jsuperpy/analyst.pyc\u001b[0m in \u001b[0;36maggregate_points\u001b[0;34m(input_data, min_pile_point, distance, unit, class_field, out_data, out_dataset_name, progress)\u001b[0m\n",
      "\u001b[0;32m/opt/conda/lib/python3.6/site-packages/iobjectspy/_jsuperpy/data/_util.pyc\u001b[0m in \u001b[0;36mget_input_dataset\u001b[0;34m(value)\u001b[0m\n",
      "\u001b[0;32m/opt/conda/lib/python3.6/site-packages/iobjectspy/_jsuperpy/data/ws.pyc\u001b[0m in \u001b[0;36mopen_datasource\u001b[0;34m(self, conn_info, is_get_existed)\u001b[0m\n",
      "\u001b[0;31mObjectDisposedError\u001b[0m: Workspace has been disposed."
     ]
    }
   ],
   "source": [
    "aggregate_points_test()"
   ]
  },
  {
   "cell_type": "code",
   "execution_count": null,
   "metadata": {},
   "outputs": [],
   "source": []
  }
 ],
 "metadata": {
  "kernelspec": {
   "display_name": "Python 3",
   "language": "python",
   "name": "python3"
  },
  "language_info": {
   "codemirror_mode": {
    "name": "ipython",
    "version": 3
   },
   "file_extension": ".py",
   "mimetype": "text/x-python",
   "name": "python",
   "nbconvert_exporter": "python",
   "pygments_lexer": "ipython3",
   "version": "3.6.7"
  }
 },
 "nbformat": 4,
 "nbformat_minor": 2
}
