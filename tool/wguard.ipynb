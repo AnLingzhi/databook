{
 "cells": [
  {
   "cell_type": "markdown",
   "metadata": {},
   "source": [
    "docker run --cap-add net_admin --cap-add sys_module -v wireguard_conf:/etc/wireguard -p 5555:5555/udp cmulk/wireguard-docker:buster"
   ]
  },
  {
   "cell_type": "markdown",
   "metadata": {},
   "source": [
    "!docker run -it --rm cmulk/wireguard-docker:buster genkeys"
   ]
  },
  {
   "cell_type": "markdown",
   "metadata": {},
   "source": [
    "docker run -it --rm --cap-add sys_module -v /lib/modules:/lib/modules cmulk/wireguard-docker:buster install-module"
   ]
  },
  {
   "cell_type": "markdown",
   "metadata": {},
   "source": [
    "#cat wg0.conf \n",
    "\n",
    "[Interface]\n",
    "Address = 192.168.199.173/24\n",
    "PrivateKey = eMoeVn9vQL/sSZRj9TpLBL3TA3hkPB+xttEc2sxG0l4=\n",
    "ListenPort = 5555\n",
    "\n",
    "[Peer]\n",
    "PublicKey = UE4+dTVi7TQpxWcWJnKsaVP/BYUSJaKMlopCm7U4k1o=\n",
    "AllowedIPs = 192.168.199.173"
   ]
  },
  {
   "cell_type": "code",
   "execution_count": null,
   "metadata": {},
   "outputs": [],
   "source": [
    "#Server\n",
    "! docker run -d --cap-add net_admin --cap-add sys_module \\\n",
    "-v /home/supermap/wireguard_conf:/etc/wireguard -p 5555:5555/udp \\\n",
    "--name wguard cmulk/wireguard-docker:buster"
   ]
  },
  {
   "cell_type": "markdown",
   "metadata": {},
   "source": [
    "#cat client.conf \n",
    "\n",
    "[Interface]\n",
    "Address = 192.168.199.173/24\n",
    "PrivateKey = eMoeVn9vQL/sSZRj9TpLBL3TA3hkPB+xttEc2sxG0l4=\n",
    "ListenPort = 6666 #needed for some clients to accept the config\n",
    "\n",
    "[Peer]\n",
    "PublicKey = UE4+dTVi7TQpxWcWJnKsaVP/BYUSJaKMlopCm7U4k1o=\n",
    "Endpoint = 192.168.199.173:5555\n",
    "AllowedIPs = 0.0.0.0/0,::/0 #makes sure ALL traffic routed through VPN\n",
    "PersistentKeepalive = 25"
   ]
  },
  {
   "cell_type": "code",
   "execution_count": null,
   "metadata": {},
   "outputs": [],
   "source": [
    "#Client\n",
    "! docker run -d --cap-add net_admin --cap-add sys_module \\\n",
    "-v /home/supermap/wireguard_conf:/etc/wireguard -p 6666:6666 \\\n",
    "--name wguardc cmulk/wireguard-docker:buster"
   ]
  },
  {
   "cell_type": "code",
   "execution_count": 7,
   "metadata": {},
   "outputs": [
    {
     "name": "stdout",
     "output_type": "stream",
     "text": [
      "总用量 16\n",
      "drwxrwxr-x 2 supermap supermap 4096 12月 30 20:28 config_client\n",
      "drwxrwxr-x 2 supermap supermap 4096 12月 30 14:21 config_server\n",
      "-rwxrwxr-x 1 supermap supermap  209 12月 30 20:35 start_cli.sh\n",
      "drwxrwxr-x 4 supermap supermap 4096 12月 30 20:40 wireguard-docker\n"
     ]
    }
   ],
   "source": [
    "!ls -l /home/supermap/wireguard/"
   ]
  },
  {
   "cell_type": "code",
   "execution_count": null,
   "metadata": {},
   "outputs": [],
   "source": []
  }
 ],
 "metadata": {
  "kernelspec": {
   "display_name": "Python 3",
   "language": "python",
   "name": "python3"
  },
  "language_info": {
   "codemirror_mode": {
    "name": "ipython",
    "version": 3
   },
   "file_extension": ".py",
   "mimetype": "text/x-python",
   "name": "python",
   "nbconvert_exporter": "python",
   "pygments_lexer": "ipython3",
   "version": "3.6.9"
  }
 },
 "nbformat": 4,
 "nbformat_minor": 4
}
