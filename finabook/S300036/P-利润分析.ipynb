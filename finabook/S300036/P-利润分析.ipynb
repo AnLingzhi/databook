{
 "cells": [
  {
   "cell_type": "markdown",
   "metadata": {},
   "source": [
    "# 历年利润分析。"
   ]
  },
  {
   "cell_type": "code",
   "execution_count": 1,
   "metadata": {},
   "outputs": [],
   "source": [
    "import tushare as ts\n",
    "import pandas as pd"
   ]
  },
  {
   "cell_type": "code",
   "execution_count": 3,
   "metadata": {},
   "outputs": [],
   "source": [
    "def getProfit(year,season):\n",
    "    profit = ts.get_profit_data(year,season)\n",
    "    profit.to_csv(\"../finadata/profit%d%02d.csv\"%(year,season))\n",
    "    return profit"
   ]
  },
  {
   "cell_type": "code",
   "execution_count": 8,
   "metadata": {},
   "outputs": [
    {
     "name": "stdout",
     "output_type": "stream",
     "text": [
      "[Getting data:]###########################################################"
     ]
    }
   ],
   "source": [
    "dfp=getProfit(2018,1)"
   ]
  },
  {
   "cell_type": "markdown",
   "metadata": {},
   "source": [
    "## 获取所有利润数据，保存到文件。"
   ]
  },
  {
   "cell_type": "code",
   "execution_count": null,
   "metadata": {},
   "outputs": [],
   "source": [
    "def getProfitAll():\n",
    "    for y in range(2010,2019):\n",
    "        for s in range(1,5):\n",
    "            print(\"获取利润数据: %d年，第%2d季度\"%(y,s))\n",
    "            getProfit(y,s)\n",
    "            print(\" OK.\")\n",
    "    print(\"Finished.\")"
   ]
  },
  {
   "cell_type": "code",
   "execution_count": null,
   "metadata": {},
   "outputs": [
    {
     "name": "stdout",
     "output_type": "stream",
     "text": [
      "[Getting data:]#################################GetProfit: 2010年，第 1季度\n",
      "[Getting data:]####################################GetProfit: 2010年，第 2季度\n",
      "[Getting data:]###################################GetProfit: 2010年，第 3季度\n",
      "[Getting data:]#####################################GetProfit: 2011年，第 1季度\n",
      "[Getting data:]#########################################GetProfit: 2011年，第 2季度\n",
      "[Getting data:]########################################GetProfit: 2011年，第 3季度\n",
      "[Getting data:]#########################################GetProfit: 2012年，第 1季度\n",
      "[Getting data:]##########################################GetProfit: 2012年，第 2季度\n",
      "[Getting data:]##########################################GetProfit: 2012年，第 3季度\n",
      "[Getting data:]###########################################GetProfit: 2013年，第 1季度\n",
      "[Getting data:]###########################################GetProfit: 2013年，第 2季度\n",
      "[Getting data:]############################################GetProfit: 2013年，第 3季度\n",
      "[Getting data:]###############################################GetProfit: 2014年，第 1季度\n",
      "[Getting data:]#################################################GetProfit: 2014年，第 2季度\n",
      "[Getting data:]###############################################GetProfit: 2014年，第 3季度\n",
      "[Getting data:]#################################################GetProfit: 2015年，第 1季度\n",
      "[Getting data:]##############"
     ]
    }
   ],
   "source": [
    "getProfitAll()"
   ]
  },
  {
   "cell_type": "markdown",
   "metadata": {},
   "source": [
    "## 抽取透视表，形成历年数据。"
   ]
  },
  {
   "cell_type": "code",
   "execution_count": null,
   "metadata": {},
   "outputs": [],
   "source": []
  }
 ],
 "metadata": {
  "kernelspec": {
   "display_name": "Python 3",
   "language": "python",
   "name": "python3"
  },
  "language_info": {
   "codemirror_mode": {
    "name": "ipython",
    "version": 3
   },
   "file_extension": ".py",
   "mimetype": "text/x-python",
   "name": "python",
   "nbconvert_exporter": "python",
   "pygments_lexer": "ipython3",
   "version": "3.6.5"
  }
 },
 "nbformat": 4,
 "nbformat_minor": 2
}
