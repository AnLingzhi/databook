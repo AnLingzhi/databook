{
 "cells": [
  {
   "cell_type": "markdown",
   "metadata": {},
   "source": [
    "# 深度学习引擎-PyTorch资源集锦\n",
    "\n",
    "- https://my.oschina.net/u/2306127/blog/3019985\n",
    "\n",
    "包含大量与PyTorch( https://pytorch.org )相关的资源链接，带你快速玩转基于神经网络的深度学习，进入人工智能的神秘领地。链接包括：入门教程，应用实例，图像、视觉、CNN相关实现，对抗生成网络、生成模型、GAN实现，机器翻译、问答系统、NLP实现，先进视觉推理系统，深度强化学习实现，通用神经网络高级应用等等。"
   ]
  },
  {
   "cell_type": "markdown",
   "metadata": {},
   "source": [
    "## 入门系列教程\n",
    "\n",
    "- https://github.com/MorvanZhou/PyTorch-Tutorial.git ,著名的“莫烦”PyTorch系列教程的源码。\n",
    "- http://pytorch.org/tutorials/beginner/deep_learning_60min_blitz.html, Deep Learning with PyTorch: a 60-minute blitz, PyTorch官网推荐的教程，重点在于介绍PyTorch的基本原理，包括自动求导，神经网络，以及误差优化API。\n",
    "- https://github.com/jcjohnson/pytorch-examples.git, Simple examples to introduce PyTorch，通过一些实例的方式，讲解PyTorch的基本原理。内容涉及Numpy、自动求导、参数优化、权重共享等。"
   ]
  },
  {
   "cell_type": "markdown",
   "metadata": {},
   "source": [
    "## 入门实例\n",
    "\n",
    "- Ten minutes pyTorch Tutorial, https://github.com/SherlockLiao/pytorch-beginner.git, 知乎上“十分钟学习PyTorch“系列教程的源码。\n",
    "- ZOfficial PyTorch Examples, https://github.com/pytorch/examples, 官方提供的实例源码，包括以下内容：\n",
    "    - MNIST Convnets\n",
    "    - Word level Language Modeling using LSTM RNNs\n",
    "    - Training Imagenet Classifiers with Residual Networks\n",
    "    - Generative Adversarial Networks (DCGAN)\n",
    "    - Variational Auto-Encoders\n",
    "    - Superresolution using an efficient sub-pixel convolutional neural network\n",
    "    - Hogwild training of shared ConvNets across multiple processes on MNIST\n",
    "    - Training a CartPole to balance in OpenAI Gym with actor-critic\n",
    "    - Natural Language Inference (SNLI) with GloVe vectors, LSTMs, and torchtext\n",
    "    - Time sequence prediction - create an LSTM to learn Sine waves\n",
    "    \n",
    "- PyTorch Tutorial for Deep Learning Researchers, https://github.com/yunjey/pytorch-tutorial.git, 据说是提供给深度学习科研者们的PyTorch教程←_←。教程中的每个实例的代码都控制在30行左右，简单易懂，内容如下：\n",
    "    - PyTorch Basics\n",
    "    - Linear Regression\n",
    "    - Logistic Regression\n",
    "    - Feedforward Neural Network\n",
    "    - Convolutional Neural Network\n",
    "    - Deep Residual Network\n",
    "    - Recurrent Neural Network\n",
    "    - Bidirectional Recurrent Neural Network\n",
    "    - Language Model (RNN-LM)\n",
    "    - Generative Adversarial Network\n",
    "    - Image Captioning (CNN-RNN)\n",
    "    - Deep Convolutional GAN (DCGAN)\n",
    "    - Variational Auto-Encoder\n",
    "    - Neural Style Transfer\n",
    "    - TensorBoard in PyTorch\n",
    "\n",
    "- PyTorch-playground, https://github.com/aaron-xichen/pytorch-playground.git, PyTorch初学者的Playground，在这里针对一下常用的数据集，已经写好了一些模型，所以大家可以直接拿过来玩玩看，目前支持以下数据集的模型。\n",
    "    - mnist, svhn\n",
    "    - cifar10, cifar100\n",
    "    - stl10\n",
    "    - alexnet\n",
    "    - vgg16, vgg16_bn, vgg19, vgg19_bn\n",
    "    - resnet18, resnet34, resnet50, resnet101, resnet152\n",
    "    - squeezenet_v0, squeezenet_v1\n",
    "    - inception_v3"
   ]
  },
  {
   "cell_type": "code",
   "execution_count": null,
   "metadata": {},
   "outputs": [],
   "source": []
  }
 ],
 "metadata": {
  "kernelspec": {
   "display_name": "Python 3",
   "language": "python",
   "name": "python3"
  },
  "language_info": {
   "codemirror_mode": {
    "name": "ipython",
    "version": 3
   },
   "file_extension": ".py",
   "mimetype": "text/x-python",
   "name": "python",
   "nbconvert_exporter": "python",
   "pygments_lexer": "ipython3",
   "version": "3.6.8"
  }
 },
 "nbformat": 4,
 "nbformat_minor": 2
}
