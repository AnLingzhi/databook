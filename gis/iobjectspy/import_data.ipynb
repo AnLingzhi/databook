{
 "cells": [
  {
   "cell_type": "code",
   "execution_count": null,
   "metadata": {},
   "outputs": [],
   "source": [
    "from iobjectspy import (import_shape, import_img)\n",
    "import os\n",
    "import sys\n",
    "\n",
    "# 设置示例数据路径\n",
    "example_data_dir = ''\n",
    "\n",
    "# 设置结果输出路径\n",
    "out_dir = os.path.join(example_data_dir, 'out')\n",
    "\n",
    "if not os.path.exists(out_dir):\n",
    "    os.makedirs(out_dir)\n",
    "\n",
    "\n",
    "def progress_func(step_event):\n",
    "    sys.stdout.write('%s,%s %%\\n' % (step_event.title, step_event.message))\n",
    "\n",
    "\n",
    "def print_result(result):\n",
    "    if result is not None:\n",
    "        for item in result:\n",
    "            if isinstance(item, str):\n",
    "                sys.stdout.write('导入数据成功，导入数据到数据集 %s \\n' % item)\n",
    "            else:\n",
    "                sys.stdout.write('导入数据成功，导入数据到数据集 %s \\n' % item.name)\n",
    "    else:\n",
    "        sys.stdout.write('导入数据失败\\n')\n",
    "\n",
    "\n",
    "def import_shp_test():\n",
    "    \"\"\"导入 county_p.shp 文件到 county_p.udb 数据源中。导入成功后返回结果数据集的名称。\"\"\"\n",
    "\n",
    "    input_path = os.path.join(example_data_dir, 'county_p.shp')\n",
    "    result = import_shape(input_path, os.path.join(out_dir, 'out_import_data_county_p.udb'), progress=progress_func)\n",
    "    print_result(result)\n",
    "\n",
    "\n",
    "def import_image_test():\n",
    "    \"\"\"\n",
    "    导入 multibands.img 文件到 image.udb 数据源中，以多波段数据集方式导入，即导入成功后会得到一个多波段的影像数据集。\n",
    "    导入成功后返回结果数据集的名称\n",
    "    \"\"\"\n",
    "    input_path = os.path.join(example_data_dir, 'multibands.img')\n",
    "    result = import_img(input_path, os.path.join(out_dir, 'out_import_data_multibands.udb'),\n",
    "                        multi_band_mode='MULTIBAND', progress=progress_func)\n",
    "    print_result(result)\n",
    "\n",
    "\n",
    "if __name__ == '__main__':\n",
    "    # 导入 shape 文件\n",
    "    import_shp_test()\n",
    "\n",
    "    # 导入多波段 img 文件\n",
    "    import_image_test()\n"
   ]
  },
  {
   "cell_type": "code",
   "execution_count": null,
   "metadata": {},
   "outputs": [],
   "source": [
    "exit()"
   ]
  }
 ],
 "metadata": {
  "kernelspec": {
   "display_name": "Python 3",
   "language": "python",
   "name": "python3"
  },
  "language_info": {
   "codemirror_mode": {
    "name": "ipython",
    "version": 3
   },
   "file_extension": ".py",
   "mimetype": "text/x-python",
   "name": "python",
   "nbconvert_exporter": "python",
   "pygments_lexer": "ipython3",
   "version": "3.5.4"
  }
 },
 "nbformat": 4,
 "nbformat_minor": 2
}
