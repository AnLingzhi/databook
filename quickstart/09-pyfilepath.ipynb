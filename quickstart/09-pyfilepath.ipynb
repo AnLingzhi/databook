{
 "cells": [
  {
   "cell_type": "markdown",
   "metadata": {},
   "source": [
    "# Python里的文件操作，目录递归访问"
   ]
  },
  {
   "cell_type": "code",
   "execution_count": 1,
   "metadata": {},
   "outputs": [],
   "source": [
    "import os\n",
    "import os.path"
   ]
  },
  {
   "cell_type": "markdown",
   "metadata": {},
   "source": [
    "### 递归函数，扫描目录及其子目录。"
   ]
  },
  {
   "cell_type": "code",
   "execution_count": 3,
   "metadata": {},
   "outputs": [],
   "source": [
    "# 处理函数\n",
    "def DoFileWork(path,filename):\n",
    "    print(\"DoFileWork path:%s, filename:%s\"%(path,filename))\n",
    "    "
   ]
  },
  {
   "cell_type": "code",
   "execution_count": 5,
   "metadata": {},
   "outputs": [],
   "source": [
    "# 递归处理目录\n",
    "def traversefile(workdir):\n",
    "    count = 1\n",
    "    print(\"当前目录：\", workdir)\n",
    "    for filename in os.listdir(workdir):\n",
    "        file = os.path.join(workdir,filename)\n",
    "\n",
    "        #path,name = os.path.split(file)\n",
    "        fname,fext = os.path.splitext(os.path.basename(file))\n",
    "        print(\"\\t文件：\", os.path.dirname(file), \",\" , filename, \" : \", fname, \"+\" ,fext)\n",
    "        \n",
    "        if os.path.isdir(file):\n",
    "            print(\"子目录：\", file)\n",
    "            count += traversefile(file) #计算该目录下所有的目录个数\n",
    "        else:\n",
    "            if fext == \".ipynb\":\n",
    "                DoFileWork(os.path.dirname(file)+\"/\", fname)\n",
    "            continue\n",
    "    return count"
   ]
  },
  {
   "cell_type": "code",
   "execution_count": 6,
   "metadata": {},
   "outputs": [
    {
     "name": "stdout",
     "output_type": "stream",
     "text": [
      "当前目录： ../finabook\n",
      "\t文件： ../finabook , C1-周期轮动.ipynb  :  C1-周期轮动 + .ipynb\n",
      "DoFileWork path:../finabook/, filename:C1-周期轮动\n",
      "\t文件： ../finabook , 00-说明.ipynb  :  00-说明 + .ipynb\n",
      "DoFileWork path:../finabook/, filename:00-说明\n",
      "\t文件： ../finabook , A1-宏观经济.ipynb  :  A1-宏观经济 + .ipynb\n",
      "DoFileWork path:../finabook/, filename:A1-宏观经济\n",
      "\t文件： ../finabook , C4-交易择时.ipynb  :  C4-交易择时 + .ipynb\n",
      "DoFileWork path:../finabook/, filename:C4-交易择时\n",
      "\t文件： ../finabook , Shibor.ipynb  :  Shibor + .ipynb\n",
      "DoFileWork path:../finabook/, filename:Shibor\n",
      "\t文件： ../finabook , finadata  :  finadata + \n",
      "子目录： ../finabook/finadata\n",
      "当前目录： ../finabook/finadata\n",
      "\t文件： ../finabook/finadata , profit201202.csv  :  profit201202 + .csv\n",
      "\t文件： ../finabook/finadata , profit201404.csv  :  profit201404 + .csv\n",
      "\t文件： ../finabook/finadata , profit201001.csv  :  profit201001 + .csv\n",
      "\t文件： ../finabook/finadata , profit201203.csv  :  profit201203 + .csv\n",
      "\t文件： ../finabook/finadata , profit201201.csv  :  profit201201 + .csv\n",
      "\t文件： ../finabook/finadata , profit201003.csv  :  profit201003 + .csv\n",
      "\t文件： ../finabook/finadata , profit201604.csv  :  profit201604 + .csv\n",
      "\t文件： ../finabook/finadata , profit201002.csv  :  profit201002 + .csv\n",
      "\t文件： ../finabook/finadata , profit201204.csv  :  profit201204 + .csv\n",
      "\t文件： ../finabook/finadata , profit201402.csv  :  profit201402 + .csv\n",
      "\t文件： ../finabook/finadata , profit201403.csv  :  profit201403 + .csv\n",
      "\t文件： ../finabook/finadata , profit201601.csv  :  profit201601 + .csv\n",
      "\t文件： ../finabook/finadata , profit201603.csv  :  profit201603 + .csv\n",
      "\t文件： ../finabook/finadata , profit201401.csv  :  profit201401 + .csv\n",
      "\t文件： ../finabook/finadata , profit201602.csv  :  profit201602 + .csv\n",
      "\t文件： ../finabook/finadata , profit201004.csv  :  profit201004 + .csv\n",
      "\t文件： ../finabook/finadata , profit201103.csv  :  profit201103 + .csv\n",
      "\t文件： ../finabook/finadata , profit201301.csv  :  profit201301 + .csv\n",
      "\t文件： ../finabook/finadata , profit201102.csv  :  profit201102 + .csv\n",
      "\t文件： ../finabook/finadata , profit201704.csv  :  profit201704 + .csv\n",
      "\t文件： ../finabook/finadata , profit201504.csv  :  profit201504 + .csv\n",
      "\t文件： ../finabook/finadata , profit201302.csv  :  profit201302 + .csv\n",
      "\t文件： ../finabook/finadata , profit201303.csv  :  profit201303 + .csv\n",
      "\t文件： ../finabook/finadata , profit201101.csv  :  profit201101 + .csv\n",
      "\t文件： ../finabook/finadata , profit201501.csv  :  profit201501 + .csv\n",
      "\t文件： ../finabook/finadata , profit201703.csv  :  profit201703 + .csv\n",
      "\t文件： ../finabook/finadata , debt201802.csv  :  debt201802 + .csv\n",
      "\t文件： ../finabook/finadata , profit201104.csv  :  profit201104 + .csv\n",
      "\t文件： ../finabook/finadata , profit201702.csv  :  profit201702 + .csv\n",
      "\t文件： ../finabook/finadata , profit201502.csv  :  profit201502 + .csv\n",
      "\t文件： ../finabook/finadata , debt201801.csv  :  debt201801 + .csv\n",
      "\t文件： ../finabook/finadata , profit201304.csv  :  profit201304 + .csv\n",
      "\t文件： ../finabook/finadata , profit201701.csv  :  profit201701 + .csv\n",
      "\t文件： ../finabook/finadata , profit201503.csv  :  profit201503 + .csv\n",
      "\t文件： ../finabook/finadata , debt201004.csv  :  debt201004 + .csv\n",
      "\t文件： ../finabook/finadata , debt201602.csv  :  debt201602 + .csv\n",
      "\t文件： ../finabook/finadata , debt201401.csv  :  debt201401 + .csv\n",
      "\t文件： ../finabook/finadata , debt201603.csv  :  debt201603 + .csv\n",
      "\t文件： ../finabook/finadata , debt201601.csv  :  debt201601 + .csv\n",
      "\t文件： ../finabook/finadata , debt201403.csv  :  debt201403 + .csv\n",
      "\t文件： ../finabook/finadata , debt201402.csv  :  debt201402 + .csv\n",
      "\t文件： ../finabook/finadata , debt201204.csv  :  debt201204 + .csv\n",
      "\t文件： ../finabook/finadata , debt201002.csv  :  debt201002 + .csv\n",
      "\t文件： ../finabook/finadata , debt201604.csv  :  debt201604 + .csv\n",
      "\t文件： ../finabook/finadata , debt201003.csv  :  debt201003 + .csv\n",
      "\t文件： ../finabook/finadata , debt201201.csv  :  debt201201 + .csv\n",
      "\t文件： ../finabook/finadata , debt201203.csv  :  debt201203 + .csv\n",
      "\t文件： ../finabook/finadata , debt201001.csv  :  debt201001 + .csv\n",
      "\t文件： ../finabook/finadata , debt201404.csv  :  debt201404 + .csv\n",
      "\t文件： ../finabook/finadata , debt201202.csv  :  debt201202 + .csv\n",
      "\t文件： ../finabook/finadata , debt201503.csv  :  debt201503 + .csv\n",
      "\t文件： ../finabook/finadata , debt201701.csv  :  debt201701 + .csv\n",
      "\t文件： ../finabook/finadata , debt201304.csv  :  debt201304 + .csv\n",
      "\t文件： ../finabook/finadata , profit201801.csv  :  profit201801 + .csv\n",
      "\t文件： ../finabook/finadata , debt201502.csv  :  debt201502 + .csv\n",
      "\t文件： ../finabook/finadata , debt201702.csv  :  debt201702 + .csv\n",
      "\t文件： ../finabook/finadata , debt201104.csv  :  debt201104 + .csv\n",
      "\t文件： ../finabook/finadata , profit201802.csv  :  profit201802 + .csv\n",
      "\t文件： ../finabook/finadata , debt201703.csv  :  debt201703 + .csv\n",
      "\t文件： ../finabook/finadata , debt201501.csv  :  debt201501 + .csv\n",
      "\t文件： ../finabook/finadata , debt201101.csv  :  debt201101 + .csv\n",
      "\t文件： ../finabook/finadata , debt201303.csv  :  debt201303 + .csv\n",
      "\t文件： ../finabook/finadata , debt201302.csv  :  debt201302 + .csv\n",
      "\t文件： ../finabook/finadata , debt201504.csv  :  debt201504 + .csv\n",
      "\t文件： ../finabook/finadata , debt201704.csv  :  debt201704 + .csv\n",
      "\t文件： ../finabook/finadata , debt201102.csv  :  debt201102 + .csv\n",
      "\t文件： ../finabook/finadata , debt201301.csv  :  debt201301 + .csv\n",
      "\t文件： ../finabook/finadata , debt201103.csv  :  debt201103 + .csv\n",
      "\t文件： ../finabook , A3-大盘指标.ipynb  :  A3-大盘指标 + .ipynb\n",
      "DoFileWork path:../finabook/, filename:A3-大盘指标\n",
      "\t文件： ../finabook , S300036  :  S300036 + \n",
      "子目录： ../finabook/S300036\n",
      "当前目录： ../finabook/S300036\n",
      "\t文件： ../finabook/S300036 , X-利润分析.ipynb  :  X-利润分析 + .ipynb\n",
      "DoFileWork path:../finabook/S300036/, filename:X-利润分析\n",
      "\t文件： ../finabook/S300036 , E-日线分析S300036.ipynb  :  E-日线分析S300036 + .ipynb\n",
      "DoFileWork path:../finabook/S300036/, filename:E-日线分析S300036\n",
      "\t文件： ../finabook/S300036 , D-周线分析S300036.ipynb  :  D-周线分析S300036 + .ipynb\n",
      "DoFileWork path:../finabook/S300036/, filename:D-周线分析S300036\n",
      "\t文件： ../finabook/S300036 , X-偿债分析.ipynb  :  X-偿债分析 + .ipynb\n",
      "DoFileWork path:../finabook/S300036/, filename:X-偿债分析\n",
      "\t文件： ../finabook/S300036 , C-复权数据S300036.ipynb  :  C-复权数据S300036 + .ipynb\n",
      "DoFileWork path:../finabook/S300036/, filename:C-复权数据S300036\n",
      "\t文件： ../finabook/S300036 , B-年度分析S300036.ipynb  :  B-年度分析S300036 + .ipynb\n",
      "DoFileWork path:../finabook/S300036/, filename:B-年度分析S300036\n",
      "\t文件： ../finabook/S300036 , .ipynb_checkpoints  :  .ipynb_checkpoints + \n",
      "子目录： ../finabook/S300036/.ipynb_checkpoints\n",
      "当前目录： ../finabook/S300036/.ipynb_checkpoints\n",
      "\t文件： ../finabook/S300036/.ipynb_checkpoints , B-年度分析S300036-checkpoint.ipynb  :  B-年度分析S300036-checkpoint + .ipynb\n",
      "DoFileWork path:../finabook/S300036/.ipynb_checkpoints/, filename:B-年度分析S300036-checkpoint\n",
      "\t文件： ../finabook/S300036 , 试验.ipynb  :  试验 + .ipynb\n",
      "DoFileWork path:../finabook/S300036/, filename:试验\n",
      "\t文件： ../finabook/S300036 , A-总体概览S300036.ipynb  :  A-总体概览S300036 + .ipynb\n",
      "DoFileWork path:../finabook/S300036/, filename:A-总体概览S300036\n",
      "\t文件： ../finabook , C2-水位浮动.ipynb  :  C2-水位浮动 + .ipynb\n",
      "DoFileWork path:../finabook/, filename:C2-水位浮动\n",
      "\t文件： ../finabook , A4-股市行情.ipynb  :  A4-股市行情 + .ipynb\n",
      "DoFileWork path:../finabook/, filename:A4-股市行情\n",
      "\t文件： ../finabook , A2-行业趋势.ipynb  :  A2-行业趋势 + .ipynb\n",
      "DoFileWork path:../finabook/, filename:A2-行业趋势\n",
      "\t文件： ../finabook , B2-投资分析.ipynb  :  B2-投资分析 + .ipynb\n",
      "DoFileWork path:../finabook/, filename:B2-投资分析\n",
      "\t文件： ../finabook , B4-价格预测.ipynb  :  B4-价格预测 + .ipynb\n",
      "DoFileWork path:../finabook/, filename:B4-价格预测\n",
      "\t文件： ../finabook , C3-落差预测.ipynb  :  C3-落差预测 + .ipynb\n",
      "DoFileWork path:../finabook/, filename:C3-落差预测\n",
      "\t文件： ../finabook , Event.ipynb  :  Event + .ipynb\n",
      "DoFileWork path:../finabook/, filename:Event\n",
      "\t文件： ../finabook , B3-交易分析.ipynb  :  B3-交易分析 + .ipynb\n",
      "DoFileWork path:../finabook/, filename:B3-交易分析\n",
      "\t文件： ../finabook , B1-报表分析.ipynb  :  B1-报表分析 + .ipynb\n",
      "DoFileWork path:../finabook/, filename:B1-报表分析\n"
     ]
    },
    {
     "data": {
      "text/plain": [
       "4"
      ]
     },
     "execution_count": 6,
     "metadata": {},
     "output_type": "execute_result"
    }
   ],
   "source": [
    "traversefile(\"../finabook\")"
   ]
  },
  {
   "cell_type": "code",
   "execution_count": null,
   "metadata": {},
   "outputs": [],
   "source": []
  }
 ],
 "metadata": {
  "kernelspec": {
   "display_name": "Python 3",
   "language": "python",
   "name": "python3"
  },
  "language_info": {
   "codemirror_mode": {
    "name": "ipython",
    "version": 3
   },
   "file_extension": ".py",
   "mimetype": "text/x-python",
   "name": "python",
   "nbconvert_exporter": "python",
   "pygments_lexer": "ipython3",
   "version": "3.6.5"
  }
 },
 "nbformat": 4,
 "nbformat_minor": 2
}
