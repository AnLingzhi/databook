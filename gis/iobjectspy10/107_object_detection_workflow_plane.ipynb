{
 "cells": [
  {
   "cell_type": "markdown",
   "metadata": {},
   "source": [
    "# 目标检测训练"
   ]
  },
  {
   "cell_type": "code",
   "execution_count": 1,
   "metadata": {},
   "outputs": [
    {
     "name": "stderr",
     "output_type": "stream",
     "text": [
      "Using TensorFlow backend.\n"
     ]
    }
   ],
   "source": [
    "#!/usr/bin/env python3\n",
    "# coding=utf-8\n",
    "import os\n",
    "import time\n",
    "\n",
    "from iobjectspy import open_datasource\n",
    "from iobjectspy.ml.vision import Trainer, DataPreparation, Inference"
   ]
  },
  {
   "cell_type": "markdown",
   "metadata": {},
   "source": [
    "## 设置TIF影像,矢量标签路径"
   ]
  },
  {
   "cell_type": "code",
   "execution_count": 2,
   "metadata": {},
   "outputs": [
    {
     "name": "stdout",
     "output_type": "stream",
     "text": [
      "java -cp /home/data/hou/workspaces/iobjectspy/venv/lib/python3.6/site-packages/iobjectspy-10.0.0-py3.6.egg/iobjectspy/_jsuperpy/jars/iobjects-py4j.jar com.supermap.jsuperpy.ApplicationExample 127.0.0.1 47659\n",
      "[iObjectsPy]: Connection gateway-service successful, Python callback port bind 40065\n",
      "\n"
     ]
    }
   ],
   "source": [
    "curr_dir = ''\n",
    "data_dir = os.path.join(curr_dir, '..','..','example_data')\n",
    "input_data = os.path.join(data_dir, 'training','plane.tif')\n",
    "ds = open_datasource(os.path.join(data_dir, 'training','label.udbx'))"
   ]
  },
  {
   "cell_type": "markdown",
   "metadata": {},
   "source": [
    "## 设置训练数据生成路径"
   ]
  },
  {
   "cell_type": "code",
   "execution_count": 3,
   "metadata": {},
   "outputs": [],
   "source": [
    "output_path = os.path.join(curr_dir, '..','..','out')"
   ]
  },
  {
   "cell_type": "markdown",
   "metadata": {},
   "source": [
    "## 生成VOC格式的训练数据"
   ]
  },
  {
   "cell_type": "code",
   "execution_count": 4,
   "metadata": {},
   "outputs": [
    {
     "name": "stdout",
     "output_type": "stream",
     "text": [
      "train data saved to `../../out/VOC`\n",
      "完成，共耗时3.8450088500976562s，训练数据保存在 ../../out/VOC\n"
     ]
    }
   ],
   "source": [
    "input_label = ds['label']\n",
    "label_class_field = None\n",
    "output_name = 'VOC'\n",
    "start_time = time.time()\n",
    "DataPreparation.create_training_data(input_data=input_data, input_label=input_label,\n",
    "                                     label_class_field=label_class_field, output_path=output_path,\n",
    "                                     output_name=output_name,\n",
    "                                     training_data_format='VOC', tile_format='jpg', tile_size_x=512,\n",
    "                                     tile_size_y=512, tile_offset_x=256,\n",
    "                                     tile_offset_y=256, tile_start_index=0, save_nolabel_tiles=False)\n",
    "\n",
    "print('完成，共耗时{}s，训练数据保存在 {}'.format(\n",
    "    time.time() - start_time, os.path.join(output_path, output_name)))"
   ]
  },
  {
   "cell_type": "markdown",
   "metadata": {},
   "source": [
    "## 设置预训练模型路径"
   ]
  },
  {
   "cell_type": "code",
   "execution_count": 5,
   "metadata": {},
   "outputs": [],
   "source": [
    "backbone_weight_path = os.path.join(curr_dir, '..','..','backbone','res101.ckpt')"
   ]
  },
  {
   "cell_type": "markdown",
   "metadata": {},
   "source": [
    "## 设置模型配置文件"
   ]
  },
  {
   "cell_type": "code",
   "execution_count": 6,
   "metadata": {},
   "outputs": [],
   "source": [
    "config = os.path.join(curr_dir, '..','..','trainer_config','object_detection_train_config.sdt')"
   ]
  },
  {
   "cell_type": "markdown",
   "metadata": {},
   "source": [
    "## 设置训练数据输入路径"
   ]
  },
  {
   "cell_type": "code",
   "execution_count": 7,
   "metadata": {},
   "outputs": [],
   "source": [
    "train_data_path = os.path.join(curr_dir, '..','..','out','VOC')"
   ]
  },
  {
   "cell_type": "markdown",
   "metadata": {},
   "source": [
    "## 设置输出路径"
   ]
  },
  {
   "cell_type": "code",
   "execution_count": 8,
   "metadata": {},
   "outputs": [],
   "source": [
    "#日志输出路径\n",
    "log_path = os.path.join(curr_dir, '..','..','out','log')\n",
    "#模型输出路径\n",
    "output_model_path = os.path.join(curr_dir, '..','..','out','object_detection_model')\n",
    "output_model_name = 'saved_model'"
   ]
  },
  {
   "cell_type": "markdown",
   "metadata": {},
   "source": [
    "## 基于Faster R-CNN的目标检测训练\n",
    "通过利用训练数据制作出来的VOC数据集进行目标检测模型训练,得到可用于预测的模型文件"
   ]
  },
  {
   "cell_type": "code",
   "execution_count": null,
   "metadata": {
    "scrolled": true
   },
   "outputs": [
    {
     "name": "stdout",
     "output_type": "stream",
     "text": [
      "Output snapshot model will be saved to `../../out/log/ckpt_model_path`\n",
      "TensorFlow summaries will be saved to `../../out/log/tensorflow`\n",
      "Output model will be saved to `../../out/object_detection_model/saved_model`\n",
      "Appending horizontally-flipped training examples...\n",
      "done\n",
      "Preparing training data...\n",
      "done\n",
      "Preparing training data...\n",
      "done\n",
      "Filtered 30 roidb entries: 100 -> 70\n",
      "Filtered 2 roidb entries: 7 -> 5\n",
      "Solving...\n"
     ]
    },
    {
     "name": "stderr",
     "output_type": "stream",
     "text": [
      "/home/data/hou/workspaces/iobjectspy/venv/lib/python3.6/site-packages/tensorflow/python/ops/gradients_impl.py:112: UserWarning: Converting sparse IndexedSlices to a dense Tensor of unknown shape. This may consume a large amount of memory.\n",
      "  \"Converting sparse IndexedSlices to a dense Tensor of unknown shape. \"\n"
     ]
    },
    {
     "name": "stdout",
     "output_type": "stream",
     "text": [
      "Loading initial model weights from ../../backbone/res101.ckpt\n",
      "Loaded.\n",
      "Fix Resnet V1 layers..\n",
      "Fixed.\n",
      "iter: 10 / 50, total loss: 0.752909\n",
      " >>> rpn_loss_cls: 0.291161\n",
      " >>> rpn_loss_box: 0.054692\n",
      " >>> loss_cls: 0.024543\n",
      " >>> loss_box: 0.000000\n",
      " >>> lr: 0.001000\n",
      "speed: 7.797s / iter\n",
      "iter: 20 / 50, total loss: 1.523404\n",
      " >>> rpn_loss_cls: 0.262039\n",
      " >>> rpn_loss_box: 0.060998\n",
      " >>> loss_cls: 0.366770\n",
      " >>> loss_box: 0.451084\n",
      " >>> lr: 0.001000\n",
      "speed: 7.445s / iter\n",
      "iter: 30 / 50, total loss: 1.527546\n",
      " >>> rpn_loss_cls: 0.053517\n",
      " >>> rpn_loss_box: 0.042356\n",
      " >>> loss_cls: 0.490019\n",
      " >>> loss_box: 0.559145\n",
      " >>> lr: 0.001000\n",
      "speed: 7.528s / iter\n"
     ]
    }
   ],
   "source": [
    "start_time = time.time()\n",
    "\n",
    "Trainer(train_data_path=train_data_path, config=config, epoch=1, batch_size=1, lr=0.001,\n",
    "        output_model_path=output_model_path,\n",
    "        output_model_name=output_model_name, backbone_name='res101',\n",
    "        backbone_weight_path=backbone_weight_path, log_path=log_path, reload_model=False).object_detect_train()\n",
    "\n",
    "print('完成，共耗时{}s，模型文件保存在 {}'.format(\n",
    "    time.time() - start_time, os.path.join(output_model_path, output_model_name)))"
   ]
  },
  {
   "cell_type": "markdown",
   "metadata": {},
   "source": [
    "## 基于目标检测的遥感飞机影像的预测"
   ]
  },
  {
   "cell_type": "code",
   "execution_count": null,
   "metadata": {},
   "outputs": [],
   "source": [
    "\"\"\"\n",
    "    目标检测类型支持 'plane', 'ship', 'tennis-court', 'vehicle'\n",
    "\"\"\"\n",
    "input_data = os.path.join(data_dir, 'inference','plane_infer.tif')\n",
    "model_path = os.path.join(curr_dir, '..','..','model','plane','plane.sdm')\n",
    "out_data = os.path.join(curr_dir, '..','..','out','plane.udbx')\n",
    "category_name = \"plane\"\n",
    "\n",
    "start_time = time.time()\n",
    "\n",
    "Inference(input_data=input_data, model_path=model_path, out_data=out_data,\n",
    "              out_dataset_name='out_plane').object_detect_infer(\n",
    "        category_name=category_name, nms_thresh=0.3, score_thresh=0.3)\n",
    "\n",
    "print('完成，共耗时{}s，预测结果保存在 {}'.format(\n",
    "    time.time() - start_time, os.path.join(out_data)))\n"
   ]
  },
  {
   "cell_type": "code",
   "execution_count": null,
   "metadata": {},
   "outputs": [],
   "source": []
  }
 ],
 "metadata": {
  "kernelspec": {
   "display_name": "Python 3",
   "language": "python",
   "name": "python3"
  },
  "language_info": {
   "codemirror_mode": {
    "name": "ipython",
    "version": 3
   },
   "file_extension": ".py",
   "mimetype": "text/x-python",
   "name": "python",
   "nbconvert_exporter": "python",
   "pygments_lexer": "ipython3",
   "version": "3.6.9"
  }
 },
 "nbformat": 4,
 "nbformat_minor": 4
}
