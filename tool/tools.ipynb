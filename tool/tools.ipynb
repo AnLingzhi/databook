{
 "cells": [
  {
   "cell_type": "code",
   "execution_count": null,
   "metadata": {},
   "outputs": [
    {
     "name": "stdout",
     "output_type": "stream",
     "text": [
      "Cloning into 'databook'...\n",
      "remote: Enumerating objects: 1604, done.\u001b[K\n"
     ]
    }
   ],
   "source": [
    "!git clone https://github.com/databooks/databook"
   ]
  },
  {
   "cell_type": "code",
   "execution_count": 6,
   "metadata": {},
   "outputs": [
    {
     "name": "stdout",
     "output_type": "stream",
     "text": [
      "total 18\n",
      "drwxr-xr-x 4 jovyan users 4096 Mar  8 13:48 .\n",
      "drwxrwxr-x 7 jovyan  1000 4096 Mar  8 13:40 ..\n",
      "drwxrwxr-x 3 jovyan  1000 4096 Mar  8 13:47 databook\n",
      "-rwxr-xr-x 1 jovyan users   47 Mar  8 13:40 getdatabook.sh\n",
      "drwxr-xr-x 2 jovyan users 4096 Mar  8 13:41 .ipynb_checkpoints\n",
      "-rw-r--r-- 1 jovyan users 1484 Mar  8 13:48 tools.ipynb\n"
     ]
    }
   ],
   "source": [
    "!ls -l -a "
   ]
  },
  {
   "cell_type": "code",
   "execution_count": 9,
   "metadata": {},
   "outputs": [
    {
     "name": "stdout",
     "output_type": "stream",
     "text": [
      "total 9\n",
      "drwxr-xr-x  2 jovyan users 4096 Mar  8 22:18 .\n",
      "drwxrwxr-x 11 jovyan  1000 4096 Mar  8 22:18 ..\n",
      "-rw-r--r--  1 jovyan users  304 Mar  8 22:18 pip.conf\n"
     ]
    }
   ],
   "source": [
    "!ls -l ~/.pip -a"
   ]
  },
  {
   "cell_type": "code",
   "execution_count": 4,
   "metadata": {},
   "outputs": [],
   "source": [
    "!mkdir ~/.pip\n",
    "!cp ./pip.conf ~/.pip/"
   ]
  },
  {
   "cell_type": "code",
   "execution_count": 7,
   "metadata": {},
   "outputs": [
    {
     "name": "stderr",
     "output_type": "stream",
     "text": [
      "Warning: 'https://mirrors.tuna.tsinghua.edu.cn/anaconda/pkgs/free/' already in 'channels' list, moving to the top\n",
      "Warning: 'https://mirrors.tuna.tsinghua.edu.cn/anaconda/pkgs/main/' already in 'channels' list, moving to the top\n",
      "Warning: 'https://mirrors.tuna.tsinghua.edu.cn/anaconda/cloud/conda-forge/' already in 'channels' list, moving to the top\n"
     ]
    }
   ],
   "source": [
    "%%bash\n",
    "conda config --add channels https://mirrors.tuna.tsinghua.edu.cn/anaconda/pkgs/free/\n",
    "conda config --add channels https://mirrors.tuna.tsinghua.edu.cn/anaconda/pkgs/main/\n",
    "conda config --add channels https://mirrors.tuna.tsinghua.edu.cn/anaconda/cloud/conda-forge/\n",
    "conda config --set show_channel_urls yes"
   ]
  },
  {
   "cell_type": "code",
   "execution_count": 2,
   "metadata": {},
   "outputs": [
    {
     "name": "stdout",
     "output_type": "stream",
     "text": [
      "Collecting package metadata: done\n",
      "Solving environment: done\n",
      "\n",
      "## Package Plan ##\n",
      "\n",
      "  environment location: /opt/conda\n",
      "\n",
      "  added / updated specs:\n",
      "    - iclientpy\n",
      "\n",
      "\n",
      "The following NEW packages will be INSTALLED:\n",
      "\n",
      "  atomicwrites       anaconda/cloud/conda-forge/noarch::atomicwrites-1.3.0-py_0\n",
      "  beautifulsoup4     anaconda/cloud/conda-forge/linux-64::beautifulsoup4-4.6.0-py36_0\n",
      "  geojson            anaconda/cloud/conda-forge/noarch::geojson-2.3.0-py_0\n",
      "  iclientpy          channel/linux-64::iclientpy-9.0.0-py36_0\n",
      "  ipyleaflet         anaconda/cloud/conda-forge/linux-64::ipyleaflet-0.5.3-py36_0\n",
      "  ipywidgets         anaconda/cloud/conda-forge/linux-64::ipywidgets-7.0.0-py36_1\n",
      "  libxslt            anaconda/cloud/conda-forge/linux-64::libxslt-1.1.32-h4785a14_1002\n",
      "  lxml               anaconda/cloud/conda-forge/linux-64::lxml-4.2.1-py36_0\n",
      "  more-itertools     anaconda/cloud/conda-forge/linux-64::more-itertools-4.3.0-py36_1000\n",
      "  palettable         anaconda/cloud/conda-forge/noarch::palettable-3.1.1-py_0\n",
      "  patsy              anaconda/cloud/conda-forge/noarch::patsy-0.5.1-py_0\n",
      "  pluggy             anaconda/cloud/conda-forge/noarch::pluggy-0.9.0-py_0\n",
      "  progressbar2       anaconda/cloud/conda-forge/linux-64::progressbar2-3.34.3-py36_0\n",
      "  psycopg2           anaconda/cloud/conda-forge/linux-64::psycopg2-2.7.7-py36h9d9f1b6_1\n",
      "  py                 anaconda/cloud/conda-forge/noarch::py-1.8.0-py_0\n",
      "  pycrypto           anaconda/cloud/conda-forge/linux-64::pycrypto-2.6.1-py36h14c3975_1002\n",
      "  pysal              anaconda/cloud/conda-forge/noarch::pysal-2.0.0-py_0\n",
      "  pytest             anaconda/cloud/conda-forge/linux-64::pytest-4.3.0-py36_0\n",
      "  pytest-runner      anaconda/cloud/conda-forge/noarch::pytest-runner-4.4-py_0\n",
      "  python-utils       anaconda/cloud/conda-forge/noarch::python-utils-2.3.0-py_1\n",
      "  seaborn            anaconda/cloud/conda-forge/noarch::seaborn-0.9.0-py_0\n",
      "  statsmodels        anaconda/cloud/conda-forge/linux-64::statsmodels-0.9.0-py36h3010b51_1000\n",
      "  widgetsnbextension anaconda/cloud/conda-forge/linux-64::widgetsnbextension-3.0.0-py36_0\n",
      "\n",
      "The following packages will be SUPERSEDED by a higher-priority channel:\n",
      "\n",
      "  python-dateutil    anaconda/cloud/conda-forge/noarch::py~ --> anaconda/cloud/conda-forge/linux-64::python-dateutil-2.6.1-py36_0\n",
      "\n",
      "The following packages will be DOWNGRADED:\n",
      "\n",
      "  geopandas                                      0.4.1-py_0 --> 0.3.0-py_1\n",
      "  idna                                        2.8-py36_1000 --> 2.6-py36_1\n",
      "  pandas                              0.24.1-py36hf484d3e_0 --> 0.20.3-py36_1\n",
      "  requests                                 2.21.0-py36_1000 --> 2.18.4-py36_1\n",
      "  urllib3                                  1.24.1-py36_1000 --> 1.22-py36_0\n",
      "\n",
      "\n",
      "Preparing transaction: done\n",
      "Verifying transaction: done\n",
      "Executing transaction: \\ ERROR conda.core.link:_execute_post_link_actions(658): An error occurred while installing package 'http://iclientpy.supermap.io/conda/channel::iclientpy-9.0.0-py36_0'.\n",
      "LinkError: post-link script failed for package http://iclientpy.supermap.io/conda/channel::iclientpy-9.0.0-py36_0\n",
      "running your command again with `-v` will provide additional information\n",
      "location of failed script: /opt/conda/bin/.iclientpy-post-link.sh\n",
      "==> script messages <==\n",
      "<None>\n",
      "\n",
      "Attempting to roll back.\n",
      "\n",
      "failed\n",
      "ERROR conda.core.link:_execute(568): An error occurred while installing package 'http://iclientpy.supermap.io/conda/channel::iclientpy-9.0.0-py36_0'.\n",
      "LinkError: post-link script failed for package http://iclientpy.supermap.io/conda/channel::iclientpy-9.0.0-py36_0\n",
      "running your command again with `-v` will provide additional information\n",
      "location of failed script: /opt/conda/bin/.iclientpy-post-link.sh\n",
      "==> script messages <==\n",
      "<None>\n",
      "\n",
      "Attempting to roll back.\n",
      "\n",
      "Rolling back transaction: done\n",
      "\n",
      "LinkError: post-link script failed for package http://iclientpy.supermap.io/conda/channel::iclientpy-9.0.0-py36_0\n",
      "running your command again with `-v` will provide additional information\n",
      "location of failed script: /opt/conda/bin/.iclientpy-post-link.sh\n",
      "==> script messages <==\n",
      "<None>\n",
      "\n",
      "\n",
      "\n"
     ]
    }
   ],
   "source": [
    "!conda install -y -c http://iclientpy.supermap.io/conda/channel iclientpy"
   ]
  },
  {
   "cell_type": "code",
   "execution_count": null,
   "metadata": {},
   "outputs": [],
   "source": []
  }
 ],
 "metadata": {
  "kernelspec": {
   "display_name": "Python 3",
   "language": "python",
   "name": "python3"
  },
  "language_info": {
   "codemirror_mode": {
    "name": "ipython",
    "version": 3
   },
   "file_extension": ".py",
   "mimetype": "text/x-python",
   "name": "python",
   "nbconvert_exporter": "python",
   "pygments_lexer": "ipython3",
   "version": "3.6.5"
  }
 },
 "nbformat": 4,
 "nbformat_minor": 2
}
