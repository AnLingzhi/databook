{
 "cells": [
  {
   "cell_type": "markdown",
   "metadata": {},
   "source": [
    "# 制作待训练的数据"
   ]
  },
  {
   "cell_type": "code",
   "execution_count": 1,
   "metadata": {},
   "outputs": [
    {
     "name": "stderr",
     "output_type": "stream",
     "text": [
      "Using TensorFlow backend.\n"
     ]
    }
   ],
   "source": [
    "import os\n",
    "from iobjectspy import open_datasource\n",
    "from iobjectspy.ml.vision import DataPreparation\n",
    "import time"
   ]
  },
  {
   "cell_type": "markdown",
   "metadata": {},
   "source": [
    "## 设置输入数据路径\n",
    "设置TIF影像,矢量标签路径"
   ]
  },
  {
   "cell_type": "code",
   "execution_count": 2,
   "metadata": {},
   "outputs": [
    {
     "name": "stdout",
     "output_type": "stream",
     "text": [
      "java -cp /home/data/hou/workspaces/iobjectspy/venv/lib/python3.6/site-packages/iobjectspy-10.0.0-py3.6.egg/iobjectspy/_jsuperpy/jars/iobjects-py4j.jar com.supermap.jsuperpy.ApplicationExample 127.0.0.1 59097\n",
      "[iObjectsPy]: Connection gateway-service successful, Python callback port bind 32797\n",
      "\n"
     ]
    }
   ],
   "source": [
    "curr_dir = ''\n",
    "# VOC格式实验\n",
    "input_VOC_data = os.path.join(curr_dir, '..','..','example_data','training','plane.tif')\n",
    "ds_voc = open_datasource(os.path.join(curr_dir, '..','..','example_data','training','label.udbx'))\n",
    "input_VOC_label = ds_voc['label']\n",
    "    \n",
    "# SCENE格式实验\n",
    "input_SCENE_data = os.path.join(curr_dir, '..','..','example_data','training','scene_cls_train_data','raw','sceneclassification.tif')\n",
    "ds_scene = open_datasource(\n",
    "    os.path.join(curr_dir, '..','..','example_data','training','scene_cls_train_data','raw','sceneclassification.udbx'))\n",
    "input_SCENE_label = ds_scene['DLTB']\n",
    "\n",
    "# 制作地物分类训练数据实验\n",
    "input_multi_data = os.path.join(curr_dir, '..','..','example_data','training','multi_cls_train_data','raw','image.tif')\n",
    "ds_multi = open_datasource(\n",
    "    os.path.join(curr_dir, '..','..','example_data','training','multi_cls_train_data','raw','multi_cls_train_data.udbx'))\n",
    "input_multi_label = ds_multi['Vector']\n",
    "\n",
    "# 制作二元分类训练数据实验\n",
    "input_binary_data = os.path.join(curr_dir, '..','..','example_data','training','binary_cls_train_data','raw','image.tif')\n",
    "ds_binary = open_datasource(\n",
    "    os.path.join(curr_dir, '..','..','example_data','training','binary_cls_train_data','raw','binary_cls_train_data.udbx'))\n",
    "input_binary_label = ds_binary['Vector']"
   ]
  },
  {
   "cell_type": "markdown",
   "metadata": {},
   "source": [
    "## 设置输出数据路径"
   ]
  },
  {
   "cell_type": "code",
   "execution_count": 3,
   "metadata": {},
   "outputs": [],
   "source": [
    "output_path = os.path.join(curr_dir, '..','..','out')"
   ]
  },
  {
   "cell_type": "markdown",
   "metadata": {},
   "source": [
    "## 制作VOC数据生成(用于faster-rcnn)\n",
    "将整幅影像数据和与其匹配的矢量标注数据切分为指定大小的瓦片，用于深度学习训练。生成的训练数据一般包括图片、标注、以及相关元信息，其中切分后的图片和标注文件名一一对应。"
   ]
  },
  {
   "cell_type": "code",
   "execution_count": 4,
   "metadata": {},
   "outputs": [
    {
     "name": "stdout",
     "output_type": "stream",
     "text": [
      "train data saved to `../../out/VOC`\n",
      "完成，共耗时5.622236013412476s，训练数据保存在 ../../out/VOC\n"
     ]
    }
   ],
   "source": [
    "label_class_field = None\n",
    "output_name = 'VOC'\n",
    "start_time = time.time()\n",
    "DataPreparation.create_training_data(input_data=input_VOC_data, input_label=input_VOC_label,\n",
    "                                     label_class_field=label_class_field, output_path=output_path,\n",
    "                                     output_name=output_name,\n",
    "                                     training_data_format='VOC', tile_format='jpg', tile_size_x=512,\n",
    "                                     tile_size_y=512, tile_offset_x=256,\n",
    "                                     tile_offset_y=256, tile_start_index=0, save_nolabel_tiles=False)\n",
    "\n",
    "print('完成，共耗时{}s，训练数据保存在 {}'.format(\n",
    "        time.time() - start_time, os.path.join(output_path, output_name)))"
   ]
  },
  {
   "cell_type": "markdown",
   "metadata": {},
   "source": [
    "## 制作SCENE数据生成(用于场景分类)"
   ]
  },
  {
   "cell_type": "code",
   "execution_count": 5,
   "metadata": {},
   "outputs": [
    {
     "name": "stdout",
     "output_type": "stream",
     "text": [
      "完成，共耗时53.19485330581665s，训练数据保存在 ../../out/SCENE\n"
     ]
    }
   ],
   "source": [
    "label_class_field = 'DLMC'\n",
    "\n",
    "output_name = 'SCENE'\n",
    "start_time = time.time()\n",
    "DataPreparation.create_training_data(input_data=input_SCENE_data, input_label=input_SCENE_label,\n",
    "                                     label_class_field=label_class_field, output_path=output_path,\n",
    "                                     output_name=output_name,\n",
    "                                     training_data_format=\"SCENE_C\", tile_format='origin', tile_size_x=128,\n",
    "                                     tile_size_y=128,\n",
    "                                     tile_offset_x=64,\n",
    "                                     tile_offset_y=64, tile_start_index=0, save_nolabel_tiles=False)\n",
    "print('完成，共耗时{}s，训练数据保存在 {}'.format(\n",
    "    time.time() - start_time, os.path.join(output_path, output_name)))"
   ]
  },
  {
   "cell_type": "markdown",
   "metadata": {},
   "source": [
    "## 制作地物分类训练数据"
   ]
  },
  {
   "cell_type": "code",
   "execution_count": 6,
   "metadata": {},
   "outputs": [
    {
     "name": "stdout",
     "output_type": "stream",
     "text": [
      "完成，共耗时29.65898036956787s，训练数据保存在 ../../out/multi_classfication\n"
     ]
    }
   ],
   "source": [
    "label_class_field = 'class_type'\n",
    "output_name = 'multi_classfication'\n",
    "start_time = time.time()\n",
    "DataPreparation.create_training_data(input_data=input_multi_data, input_label=input_multi_label,\n",
    "                                     label_class_field=label_class_field, output_path=output_path,\n",
    "                                     output_name=output_name,\n",
    "                                     training_data_format=\"MULTI_C\", tile_format='origin', tile_size_x=1024,\n",
    "                                     tile_size_y=1024,\n",
    "                                     tile_offset_x=128,\n",
    "                                     tile_offset_y=128, tile_start_index=0, save_nolabel_tiles=False)\n",
    "print('完成，共耗时{}s，训练数据保存在 {}'.format(\n",
    "    time.time() - start_time, os.path.join(output_path, output_name)))"
   ]
  },
  {
   "cell_type": "markdown",
   "metadata": {},
   "source": [
    "## 制作二元分类训练数据"
   ]
  },
  {
   "cell_type": "code",
   "execution_count": 7,
   "metadata": {},
   "outputs": [
    {
     "name": "stdout",
     "output_type": "stream",
     "text": [
      "完成，共耗时25.959524393081665s，训练数据保存在 ../../out/binary_classfication\n"
     ]
    }
   ],
   "source": [
    "label_class_field = None\n",
    "\n",
    "output_name = 'binary_classfication'\n",
    "start_time = time.time()\n",
    "DataPreparation.create_training_data(input_data=input_binary_data, input_label=input_binary_label,\n",
    "                                     label_class_field=label_class_field, output_path=output_path,\n",
    "                                     output_name=output_name,\n",
    "                                     training_data_format=\"BINARY_C\", tile_format='tif', tile_size_x=1024,\n",
    "                                     tile_size_y=1024,\n",
    "                                     tile_offset_x=512,\n",
    "                                     tile_offset_y=512, tile_start_index=0, save_nolabel_tiles=False)\n",
    "print('完成，共耗时{}s，训练数据保存在 {}'.format(\n",
    "    time.time() - start_time, os.path.join(output_path, output_name)))"
   ]
  },
  {
   "cell_type": "code",
   "execution_count": null,
   "metadata": {},
   "outputs": [],
   "source": []
  }
 ],
 "metadata": {
  "kernelspec": {
   "display_name": "Python 3",
   "language": "python",
   "name": "python3"
  },
  "language_info": {
   "codemirror_mode": {
    "name": "ipython",
    "version": 3
   },
   "file_extension": ".py",
   "mimetype": "text/x-python",
   "name": "python",
   "nbconvert_exporter": "python",
   "pygments_lexer": "ipython3",
   "version": "3.6.9"
  }
 },
 "nbformat": 4,
 "nbformat_minor": 4
}
