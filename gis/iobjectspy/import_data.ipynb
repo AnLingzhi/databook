{
 "cells": [
  {
   "cell_type": "code",
   "execution_count": 1,
   "metadata": {},
   "outputs": [],
   "source": [
    "from iobjectspy import (import_shape, import_img)\n",
    "import os\n",
    "import sys"
   ]
  },
  {
   "cell_type": "code",
   "execution_count": 2,
   "metadata": {},
   "outputs": [],
   "source": [
    "# 设置示例数据路径\n",
    "example_data_dir = ''\n",
    "\n",
    "# 设置结果输出路径\n",
    "out_dir = os.path.join(example_data_dir, 'out')\n",
    "\n",
    "if not os.path.exists(out_dir):\n",
    "    os.makedirs(out_dir)"
   ]
  },
  {
   "cell_type": "code",
   "execution_count": 3,
   "metadata": {},
   "outputs": [],
   "source": [
    "def progress_func(step_event):\n",
    "    sys.stdout.write('%s,%s %%\\n' % (step_event.title, step_event.message))\n",
    "\n",
    "\n",
    "def print_result(result):\n",
    "    if result is not None:\n",
    "        for item in result:\n",
    "            if isinstance(item, str):\n",
    "                sys.stdout.write('导入数据成功，导入数据到数据集 %s \\n' % item)\n",
    "            else:\n",
    "                sys.stdout.write('导入数据成功，导入数据到数据集 %s \\n' % item.name)\n",
    "    else:\n",
    "        sys.stdout.write('导入数据失败\\n')\n",
    "\n",
    "\n",
    "def import_shp_test():\n",
    "    \"\"\"导入 county_p.shp 文件到 county_p.udb 数据源中。导入成功后返回结果数据集的名称。\"\"\"\n",
    "\n",
    "    input_path = os.path.join(example_data_dir, 'county_p.shp')\n",
    "    result = import_shape(input_path, os.path.join(out_dir, 'out_import_data_county_p.udb'), progress=progress_func)\n",
    "    print_result(result)\n",
    "\n",
    "\n",
    "def import_image_test():\n",
    "    \"\"\"\n",
    "    导入 multibands.img 文件到 image.udb 数据源中，以多波段数据集方式导入，即导入成功后会得到一个多波段的影像数据集。\n",
    "    导入成功后返回结果数据集的名称\n",
    "    \"\"\"\n",
    "    input_path = os.path.join(example_data_dir, 'multibands.img')\n",
    "    result = import_img(input_path, os.path.join(out_dir, 'out_import_data_multibands.udb'),\n",
    "                        multi_band_mode='MULTIBAND', progress=progress_func)\n",
    "    print_result(result)"
   ]
  },
  {
   "cell_type": "code",
   "execution_count": 4,
   "metadata": {},
   "outputs": [
    {
     "name": "stdout",
     "output_type": "stream",
     "text": [
      "java -cp /opt/conda/lib/python3.6/site-packages/iobjectspy/_jsuperpy/jars/com.supermap.jsuperpy-9.1.1.jar com.supermap.jsuperpy.ApplicationExample 127.0.0.1 37117\n",
      "[iObjectsPy]: Connection gateway-service successful, Python callback port bind 41407\n",
      "\n"
     ]
    },
    {
     "ename": "DatasourceOpenedFailedError",
     "evalue": "Failed to open the data source : out/out_import_data_county_p.udb",
     "output_type": "error",
     "traceback": [
      "\u001b[0;31m---------------------------------------------------------------------------\u001b[0m",
      "\u001b[0;31mPy4JJavaError\u001b[0m                             Traceback (most recent call last)",
      "\u001b[0;32m/opt/conda/lib/python3.6/site-packages/iobjectspy/_jsuperpy/data/_util.pyc\u001b[0m in \u001b[0;36mget_output_datasource\u001b[0;34m(value)\u001b[0m\n",
      "\u001b[0;32m/opt/conda/lib/python3.6/site-packages/iobjectspy/_jsuperpy/data/ds.pyc\u001b[0m in \u001b[0;36mcreate\u001b[0;34m(conn_info)\u001b[0m\n",
      "\u001b[0;32m/opt/conda/lib/python3.6/site-packages/iobjectspy/_jsuperpy/data/ws.pyc\u001b[0m in \u001b[0;36m__new__\u001b[0;34m(cls)\u001b[0m\n",
      "\u001b[0;32m/opt/conda/lib/python3.6/site-packages/iobjectspy/_jsuperpy/data/_jvm.pyc\u001b[0m in \u001b[0;36m__init__\u001b[0;34m(self)\u001b[0m\n",
      "\u001b[0;32m/opt/conda/lib/python3.6/site-packages/iobjectspy/_jsuperpy/_gateway.pyc\u001b[0m in \u001b[0;36mget_jvm\u001b[0;34m()\u001b[0m\n",
      "\u001b[0;32m/opt/conda/lib/python3.6/site-packages/iobjectspy/_jsuperpy/_gateway.pyc\u001b[0m in \u001b[0;36mgateway\u001b[0;34m(self)\u001b[0m\n",
      "\u001b[0;32m/opt/conda/lib/python3.6/site-packages/iobjectspy/_jsuperpy/env.pyc\u001b[0m in \u001b[0;36m_set_all_to_java\u001b[0;34m(cls)\u001b[0m\n",
      "\u001b[0;32m/usr/local/spark/python/lib/py4j-0.10.7-src.zip/py4j/java_gateway.py\u001b[0m in \u001b[0;36m__call__\u001b[0;34m(self, *args)\u001b[0m\n\u001b[1;32m   1256\u001b[0m         return_value = get_return_value(\n\u001b[0;32m-> 1257\u001b[0;31m             answer, self.gateway_client, self.target_id, self.name)\n\u001b[0m\u001b[1;32m   1258\u001b[0m \u001b[0;34m\u001b[0m\u001b[0m\n",
      "\u001b[0;32m/usr/local/spark/python/lib/py4j-0.10.7-src.zip/py4j/protocol.py\u001b[0m in \u001b[0;36mget_return_value\u001b[0;34m(answer, gateway_client, target_id, name)\u001b[0m\n\u001b[1;32m    327\u001b[0m                     \u001b[0;34m\"An error occurred while calling {0}{1}{2}.\\n\"\u001b[0m\u001b[0;34m.\u001b[0m\u001b[0;34m\u001b[0m\u001b[0;34m\u001b[0m\u001b[0m\n\u001b[0;32m--> 328\u001b[0;31m                     format(target_id, \".\", name), value)\n\u001b[0m\u001b[1;32m    329\u001b[0m             \u001b[0;32melse\u001b[0m\u001b[0;34m:\u001b[0m\u001b[0;34m\u001b[0m\u001b[0;34m\u001b[0m\u001b[0m\n",
      "\u001b[0;31mPy4JJavaError\u001b[0m: An error occurred while calling z:com.supermap.data.Environment.setAnalystMemorySize.\n: java.lang.UnsatisfiedLinkError: com.supermap.data.EnvironmentNative.jni_SetAnalystMemorySize(J)Z\n\tat com.supermap.data.EnvironmentNative.jni_SetAnalystMemorySize(Native Method)\n\tat com.supermap.data.Environment.setAnalystMemorySize(Unknown Source)\n\tat sun.reflect.NativeMethodAccessorImpl.invoke0(Native Method)\n\tat sun.reflect.NativeMethodAccessorImpl.invoke(NativeMethodAccessorImpl.java:62)\n\tat sun.reflect.DelegatingMethodAccessorImpl.invoke(DelegatingMethodAccessorImpl.java:43)\n\tat java.lang.reflect.Method.invoke(Method.java:498)\n\tat py4j.reflection.MethodInvoker.invoke(MethodInvoker.java:244)\n\tat py4j.reflection.ReflectionEngine.invoke(ReflectionEngine.java:357)\n\tat py4j.Gateway.invoke(Gateway.java:282)\n\tat py4j.commands.AbstractCommand.invokeMethod(AbstractCommand.java:132)\n\tat py4j.commands.CallCommand.execute(CallCommand.java:79)\n\tat py4j.GatewayConnection.run(GatewayConnection.java:238)\n\tat java.lang.Thread.run(Thread.java:748)\n",
      "\nDuring handling of the above exception, another exception occurred:\n",
      "\u001b[0;31mDatasourceOpenedFailedError\u001b[0m               Traceback (most recent call last)",
      "\u001b[0;32m<ipython-input-4-75772da06d52>\u001b[0m in \u001b[0;36m<module>\u001b[0;34m\u001b[0m\n\u001b[1;32m      1\u001b[0m \u001b[0;32mif\u001b[0m \u001b[0m__name__\u001b[0m \u001b[0;34m==\u001b[0m \u001b[0;34m'__main__'\u001b[0m\u001b[0;34m:\u001b[0m\u001b[0;34m\u001b[0m\u001b[0;34m\u001b[0m\u001b[0m\n\u001b[1;32m      2\u001b[0m     \u001b[0;31m# 导入 shape 文件\u001b[0m\u001b[0;34m\u001b[0m\u001b[0;34m\u001b[0m\u001b[0;34m\u001b[0m\u001b[0m\n\u001b[0;32m----> 3\u001b[0;31m     \u001b[0mimport_shp_test\u001b[0m\u001b[0;34m(\u001b[0m\u001b[0;34m)\u001b[0m\u001b[0;34m\u001b[0m\u001b[0;34m\u001b[0m\u001b[0m\n\u001b[0m\u001b[1;32m      4\u001b[0m \u001b[0;34m\u001b[0m\u001b[0m\n\u001b[1;32m      5\u001b[0m     \u001b[0;31m# 导入多波段 img 文件\u001b[0m\u001b[0;34m\u001b[0m\u001b[0;34m\u001b[0m\u001b[0;34m\u001b[0m\u001b[0m\n",
      "\u001b[0;32m<ipython-input-3-2a3c816bc08e>\u001b[0m in \u001b[0;36mimport_shp_test\u001b[0;34m()\u001b[0m\n\u001b[1;32m     18\u001b[0m \u001b[0;34m\u001b[0m\u001b[0m\n\u001b[1;32m     19\u001b[0m     \u001b[0minput_path\u001b[0m \u001b[0;34m=\u001b[0m \u001b[0mos\u001b[0m\u001b[0;34m.\u001b[0m\u001b[0mpath\u001b[0m\u001b[0;34m.\u001b[0m\u001b[0mjoin\u001b[0m\u001b[0;34m(\u001b[0m\u001b[0mexample_data_dir\u001b[0m\u001b[0;34m,\u001b[0m \u001b[0;34m'county_p.shp'\u001b[0m\u001b[0;34m)\u001b[0m\u001b[0;34m\u001b[0m\u001b[0;34m\u001b[0m\u001b[0m\n\u001b[0;32m---> 20\u001b[0;31m     \u001b[0mresult\u001b[0m \u001b[0;34m=\u001b[0m \u001b[0mimport_shape\u001b[0m\u001b[0;34m(\u001b[0m\u001b[0minput_path\u001b[0m\u001b[0;34m,\u001b[0m \u001b[0mos\u001b[0m\u001b[0;34m.\u001b[0m\u001b[0mpath\u001b[0m\u001b[0;34m.\u001b[0m\u001b[0mjoin\u001b[0m\u001b[0;34m(\u001b[0m\u001b[0mout_dir\u001b[0m\u001b[0;34m,\u001b[0m \u001b[0;34m'out_import_data_county_p.udb'\u001b[0m\u001b[0;34m)\u001b[0m\u001b[0;34m,\u001b[0m \u001b[0mprogress\u001b[0m\u001b[0;34m=\u001b[0m\u001b[0mprogress_func\u001b[0m\u001b[0;34m)\u001b[0m\u001b[0;34m\u001b[0m\u001b[0;34m\u001b[0m\u001b[0m\n\u001b[0m\u001b[1;32m     21\u001b[0m     \u001b[0mprint_result\u001b[0m\u001b[0;34m(\u001b[0m\u001b[0mresult\u001b[0m\u001b[0;34m)\u001b[0m\u001b[0;34m\u001b[0m\u001b[0;34m\u001b[0m\u001b[0m\n\u001b[1;32m     22\u001b[0m \u001b[0;34m\u001b[0m\u001b[0m\n",
      "\u001b[0;32m/opt/conda/lib/python3.6/site-packages/iobjectspy/_jsuperpy/conversion.pyc\u001b[0m in \u001b[0;36mimport_shape\u001b[0;34m(source_file, output, out_dataset_name, import_mode, is_ignore_attrs, is_import_empty, source_file_charset, is_import_as_3d, progress)\u001b[0m\n",
      "\u001b[0;32m/opt/conda/lib/python3.6/site-packages/iobjectspy/_jsuperpy/conversion.pyc\u001b[0m in \u001b[0;36m_import_vector_data_\u001b[0;34m(file_type, name, source_file, output, out_dataset_name, import_mode, is_ignore_attrs, is_import_empty, source_file_charset, is_import_as_3d, separator, is_import_as_cad, is_ignore_invisible_object, is_import_by_layer, style_map_file, custom_setting_func, progress)\u001b[0m\n",
      "\u001b[0;32m/opt/conda/lib/python3.6/site-packages/iobjectspy/_jsuperpy/data/_util.pyc\u001b[0m in \u001b[0;36mget_output_datasource\u001b[0;34m(value)\u001b[0m\n",
      "\u001b[0;31mDatasourceOpenedFailedError\u001b[0m: Failed to open the data source : out/out_import_data_county_p.udb"
     ]
    }
   ],
   "source": [
    "if __name__ == '__main__':\n",
    "    # 导入 shape 文件\n",
    "    import_shp_test()\n",
    "\n",
    "    # 导入多波段 img 文件\n",
    "    import_image_test()"
   ]
  },
  {
   "cell_type": "code",
   "execution_count": null,
   "metadata": {},
   "outputs": [],
   "source": []
  }
 ],
 "metadata": {
  "kernelspec": {
   "display_name": "Python 3",
   "language": "python",
   "name": "python3"
  },
  "language_info": {
   "codemirror_mode": {
    "name": "ipython",
    "version": 3
   },
   "file_extension": ".py",
   "mimetype": "text/x-python",
   "name": "python",
   "nbconvert_exporter": "python",
   "pygments_lexer": "ipython3",
   "version": "3.6.7"
  }
 },
 "nbformat": 4,
 "nbformat_minor": 2
}
