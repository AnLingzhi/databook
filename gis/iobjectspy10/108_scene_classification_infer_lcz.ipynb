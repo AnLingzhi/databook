{
 "cells": [
  {
   "cell_type": "markdown",
   "metadata": {},
   "source": [
    "# 场景分类预测"
   ]
  },
  {
   "cell_type": "code",
   "execution_count": 1,
   "metadata": {},
   "outputs": [
    {
     "name": "stderr",
     "output_type": "stream",
     "text": [
      "Using TensorFlow backend.\n"
     ]
    }
   ],
   "source": [
    "# !/usr/bin/env python3\n",
    "# coding=utf-8\n",
    "# !/usr/bin/env python3\n",
    "# coding=utf-8\n",
    "import os\n",
    "import time\n",
    "\n",
    "from iobjectspy.ml.vision import Inference"
   ]
  },
  {
   "cell_type": "markdown",
   "metadata": {},
   "source": [
    "## 设置输入数据路径"
   ]
  },
  {
   "cell_type": "code",
   "execution_count": 2,
   "metadata": {},
   "outputs": [],
   "source": [
    "curr_dir = ''\n",
    "data_dir = os.path.join(curr_dir, '..','..','example_data')\n",
    "inference_dir = os.path.join(data_dir, 'inference')"
   ]
  },
  {
   "cell_type": "markdown",
   "metadata": {},
   "source": [
    "## 设置输出数据路径"
   ]
  },
  {
   "cell_type": "code",
   "execution_count": 3,
   "metadata": {},
   "outputs": [],
   "source": [
    "out_dir = os.path.join(curr_dir, '..','..','out')\n",
    "if not os.path.exists(out_dir):\n",
    "    os.makedirs(out_dir)"
   ]
  },
  {
   "cell_type": "markdown",
   "metadata": {},
   "source": [
    "## 设置模型路径"
   ]
  },
  {
   "cell_type": "code",
   "execution_count": 4,
   "metadata": {},
   "outputs": [],
   "source": [
    "model_path = os.path.join(curr_dir, '..','..','model')\n",
    "lcz_cls_model = os.path.join(model_path, 'sce_cls_lcz', 'sce_cls_lcz.sdm')"
   ]
  },
  {
   "cell_type": "markdown",
   "metadata": {},
   "source": [
    "## 数据模型预测"
   ]
  },
  {
   "cell_type": "code",
   "execution_count": 5,
   "metadata": {},
   "outputs": [
    {
     "name": "stderr",
     "output_type": "stream",
     "text": [
      "/home/data/hou/workspaces/iobjectspy/venv/lib/python3.6/site-packages/rasterio/__init__.py:216: NotGeoreferencedWarning: Dataset has no geotransform set. The identity matrix may be returned.\n",
      "  s = DatasetReader(path, driver=driver, sharing=sharing, **kwargs)\n"
     ]
    },
    {
     "name": "stdout",
     "output_type": "stream",
     "text": [
      "java -cp /home/data/hou/workspaces/iobjectspy/venv/lib/python3.6/site-packages/iobjectspy-10.0.0-py3.6.egg/iobjectspy/_jsuperpy/jars/iobjects-py4j.jar com.supermap.jsuperpy.ApplicationExample 127.0.0.1 59829\n",
      "[iObjectsPy]: Connection gateway-service successful, Python callback port bind 42957\n",
      "\n",
      "[>>>>>>>>>>>>>>>>>>>>>>>>>>>>>>>>>>>>>>>>>>>>>>>>>>>>>>>>>>>>>>>>>>>>>>>>>>>>>>>>>>>>>>>>>>>>>>>>>>>>]100%,2223The scene classification have done!\n",
      "提取完成，共耗时136.48770475387573s，结果数据保存在 ../../data/out/out_lcz_cls.udb 数据源下 predict_lcz 数据集中\n"
     ]
    }
   ],
   "source": [
    "dom_path = os.path.join(data_dir, 'inference', 'lcz_infer.tif')\n",
    "out_data = os.path.join(out_dir, 'out_lcz_cls.udb')\n",
    "out_dataset_name = 'predict_lcz'\n",
    "\n",
    "start_time = time.time()\n",
    "result = Inference(input_data=dom_path,\n",
    "                   model_path=lcz_cls_model,\n",
    "                   out_data=out_data,\n",
    "                   out_dataset_name=out_dataset_name).scene_classify_infer(result_type='region')\n",
    "end_time = time.time()\n",
    "print('提取完成，共耗时{}s，结果数据保存在 {} 数据源下 {} 数据集中'.format(\n",
    "    end_time - start_time, out_data, result))"
   ]
  },
  {
   "cell_type": "code",
   "execution_count": null,
   "metadata": {},
   "outputs": [],
   "source": []
  }
 ],
 "metadata": {
  "kernelspec": {
   "display_name": "Python 3",
   "language": "python",
   "name": "python3"
  },
  "language_info": {
   "codemirror_mode": {
    "name": "ipython",
    "version": 3
   },
   "file_extension": ".py",
   "mimetype": "text/x-python",
   "name": "python",
   "nbconvert_exporter": "python",
   "pygments_lexer": "ipython3",
   "version": "3.6.9"
  }
 },
 "nbformat": 4,
 "nbformat_minor": 4
}
