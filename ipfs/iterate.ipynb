{
 "cells": [
  {
   "cell_type": "code",
   "execution_count": 2,
   "metadata": {},
   "outputs": [],
   "source": [
    "import ipfsapi\n",
    "\n",
    "api = ipfsapi.connect('ipfs2-ipfs.ipfs2', 5001)"
   ]
  },
  {
   "cell_type": "code",
   "execution_count": 3,
   "metadata": {},
   "outputs": [],
   "source": [
    "PeerList = api.swarm_peers()[\"Peers\"]"
   ]
  },
  {
   "cell_type": "code",
   "execution_count": 4,
   "metadata": {},
   "outputs": [
    {
     "name": "stdout",
     "output_type": "stream",
     "text": [
      "{'Addr': '/ip4/1.215.232.107/tcp/4001', 'Peer': 'QmZSPPHZgpNznyGRedNLX3ZzU2iKK15BCyBhSopAQkJNjT', 'Latency': '', 'Muxer': '', 'Streams': None}\n",
      "{'Addr': '/ip4/100.34.210.63/tcp/39733', 'Peer': 'QmPRa5sovWPGhSDuEGU2cgfws5ra91bD89xTWmArJxickp', 'Latency': '', 'Muxer': '', 'Streams': None}\n",
      "{'Addr': '/ip4/101.200.36.28/tcp/4001', 'Peer': 'QmaD9jnqkQvZaFC4o69HVTkASJ5s4JYXHG715gHiiPLvPg', 'Latency': '', 'Muxer': '', 'Streams': None}\n"
     ]
    }
   ],
   "source": [
    "for i in range(3):\n",
    "    print(PeerList[i])"
   ]
  },
  {
   "cell_type": "code",
   "execution_count": null,
   "metadata": {},
   "outputs": [],
   "source": [
    "api-sub = "
   ]
  }
 ],
 "metadata": {
  "kernelspec": {
   "display_name": "Python 3",
   "language": "python",
   "name": "python3"
  },
  "language_info": {
   "codemirror_mode": {
    "name": "ipython",
    "version": 3
   },
   "file_extension": ".py",
   "mimetype": "text/x-python",
   "name": "python",
   "nbconvert_exporter": "python",
   "pygments_lexer": "ipython3",
   "version": "3.6.5"
  }
 },
 "nbformat": 4,
 "nbformat_minor": 2
}
